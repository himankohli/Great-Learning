{
 "cells": [
  {
   "cell_type": "markdown",
   "metadata": {},
   "source": [
    "# NLP Capstone Project"
   ]
  },
  {
   "cell_type": "markdown",
   "metadata": {},
   "source": [
    "# Milestone 1"
   ]
  },
  {
   "cell_type": "code",
   "execution_count": 101,
   "metadata": {},
   "outputs": [],
   "source": [
    "# Import Libraries\n",
    "\n",
    "import pandas as pd\n",
    "import numpy as np\n",
    "import matplotlib.pyplot as plt\n",
    "%matplotlib inline\n",
    "import seaborn as sns"
   ]
  },
  {
   "cell_type": "markdown",
   "metadata": {},
   "source": [
    "# Import Dataset"
   ]
  },
  {
   "cell_type": "code",
   "execution_count": 104,
   "metadata": {},
   "outputs": [],
   "source": [
    "data = pd.read_csv(\"C:/Users/Himanshu K/Downloads/Python Scripts/Capstone/Data Set - industrial_safety_and_health_database_with_accidents_description.csv\",\n",
    "                  names = ['Date','Country','Local','Industry_sector',\n",
    "                            'Accident_Level','Potential_Accident_Level',\n",
    "                            'Gender','Employee_Third_Party','Critical_Risk',\n",
    "                            'Description'],skiprows=1)"
   ]
  },
  {
   "cell_type": "markdown",
   "metadata": {},
   "source": [
    "# Preview Dataset"
   ]
  },
  {
   "cell_type": "code",
   "execution_count": 105,
   "metadata": {},
   "outputs": [
    {
     "data": {
      "text/html": [
       "<div>\n",
       "<style scoped>\n",
       "    .dataframe tbody tr th:only-of-type {\n",
       "        vertical-align: middle;\n",
       "    }\n",
       "\n",
       "    .dataframe tbody tr th {\n",
       "        vertical-align: top;\n",
       "    }\n",
       "\n",
       "    .dataframe thead th {\n",
       "        text-align: right;\n",
       "    }\n",
       "</style>\n",
       "<table border=\"1\" class=\"dataframe\">\n",
       "  <thead>\n",
       "    <tr style=\"text-align: right;\">\n",
       "      <th></th>\n",
       "      <th>Date</th>\n",
       "      <th>Country</th>\n",
       "      <th>Local</th>\n",
       "      <th>Industry_sector</th>\n",
       "      <th>Accident_Level</th>\n",
       "      <th>Potential_Accident_Level</th>\n",
       "      <th>Gender</th>\n",
       "      <th>Employee_Third_Party</th>\n",
       "      <th>Critical_Risk</th>\n",
       "      <th>Description</th>\n",
       "    </tr>\n",
       "  </thead>\n",
       "  <tbody>\n",
       "    <tr>\n",
       "      <th>0</th>\n",
       "      <td>2016-01-01 00:00:00</td>\n",
       "      <td>Country_01</td>\n",
       "      <td>Local_01</td>\n",
       "      <td>Mining</td>\n",
       "      <td>I</td>\n",
       "      <td>IV</td>\n",
       "      <td>Male</td>\n",
       "      <td>Third Party</td>\n",
       "      <td>Pressed</td>\n",
       "      <td>While removing the drill rod of the Jumbo 08 f...</td>\n",
       "    </tr>\n",
       "    <tr>\n",
       "      <th>1</th>\n",
       "      <td>2016-01-02 00:00:00</td>\n",
       "      <td>Country_02</td>\n",
       "      <td>Local_02</td>\n",
       "      <td>Mining</td>\n",
       "      <td>I</td>\n",
       "      <td>IV</td>\n",
       "      <td>Male</td>\n",
       "      <td>Employee</td>\n",
       "      <td>Pressurized Systems</td>\n",
       "      <td>During the activation of a sodium sulphide pum...</td>\n",
       "    </tr>\n",
       "    <tr>\n",
       "      <th>2</th>\n",
       "      <td>2016-01-06 00:00:00</td>\n",
       "      <td>Country_01</td>\n",
       "      <td>Local_03</td>\n",
       "      <td>Mining</td>\n",
       "      <td>I</td>\n",
       "      <td>III</td>\n",
       "      <td>Male</td>\n",
       "      <td>Third Party (Remote)</td>\n",
       "      <td>Manual Tools</td>\n",
       "      <td>In the sub-station MILPO located at level +170...</td>\n",
       "    </tr>\n",
       "    <tr>\n",
       "      <th>3</th>\n",
       "      <td>2016-01-08 00:00:00</td>\n",
       "      <td>Country_01</td>\n",
       "      <td>Local_04</td>\n",
       "      <td>Mining</td>\n",
       "      <td>I</td>\n",
       "      <td>I</td>\n",
       "      <td>Male</td>\n",
       "      <td>Third Party</td>\n",
       "      <td>Others</td>\n",
       "      <td>Being 9:45 am. approximately in the Nv. 1880 C...</td>\n",
       "    </tr>\n",
       "    <tr>\n",
       "      <th>4</th>\n",
       "      <td>2016-01-10 00:00:00</td>\n",
       "      <td>Country_01</td>\n",
       "      <td>Local_04</td>\n",
       "      <td>Mining</td>\n",
       "      <td>IV</td>\n",
       "      <td>IV</td>\n",
       "      <td>Male</td>\n",
       "      <td>Third Party</td>\n",
       "      <td>Others</td>\n",
       "      <td>Approximately at 11:45 a.m. in circumstances t...</td>\n",
       "    </tr>\n",
       "  </tbody>\n",
       "</table>\n",
       "</div>"
      ],
      "text/plain": [
       "                  Date     Country     Local Industry_sector Accident_Level  \\\n",
       "0  2016-01-01 00:00:00  Country_01  Local_01          Mining              I   \n",
       "1  2016-01-02 00:00:00  Country_02  Local_02          Mining              I   \n",
       "2  2016-01-06 00:00:00  Country_01  Local_03          Mining              I   \n",
       "3  2016-01-08 00:00:00  Country_01  Local_04          Mining              I   \n",
       "4  2016-01-10 00:00:00  Country_01  Local_04          Mining             IV   \n",
       "\n",
       "  Potential_Accident_Level Gender  Employee_Third_Party        Critical_Risk  \\\n",
       "0                       IV   Male           Third Party              Pressed   \n",
       "1                       IV   Male              Employee  Pressurized Systems   \n",
       "2                      III   Male  Third Party (Remote)         Manual Tools   \n",
       "3                        I   Male           Third Party               Others   \n",
       "4                       IV   Male           Third Party               Others   \n",
       "\n",
       "                                         Description  \n",
       "0  While removing the drill rod of the Jumbo 08 f...  \n",
       "1  During the activation of a sodium sulphide pum...  \n",
       "2  In the sub-station MILPO located at level +170...  \n",
       "3  Being 9:45 am. approximately in the Nv. 1880 C...  \n",
       "4  Approximately at 11:45 a.m. in circumstances t...  "
      ]
     },
     "execution_count": 105,
     "metadata": {},
     "output_type": "execute_result"
    }
   ],
   "source": [
    "data.head()"
   ]
  },
  {
   "cell_type": "markdown",
   "metadata": {},
   "source": [
    "# Check dataset for Nulls"
   ]
  },
  {
   "cell_type": "code",
   "execution_count": 12,
   "metadata": {},
   "outputs": [
    {
     "data": {
      "text/plain": [
       "Date                        0\n",
       "Country                     0\n",
       "Local                       0\n",
       "Industry_sector             0\n",
       "Accident_Level              0\n",
       "Potential_Accident_Level    0\n",
       "Gender                      0\n",
       "Employee_Third_Party        0\n",
       "Critical_Risk               0\n",
       "Description                 0\n",
       "dtype: int64"
      ]
     },
     "execution_count": 12,
     "metadata": {},
     "output_type": "execute_result"
    }
   ],
   "source": [
    "data.isnull().sum()"
   ]
  },
  {
   "cell_type": "markdown",
   "metadata": {},
   "source": [
    "<b>Inference - Dataset does not have any null values"
   ]
  },
  {
   "cell_type": "markdown",
   "metadata": {},
   "source": [
    "# Check the shape of dataset"
   ]
  },
  {
   "cell_type": "code",
   "execution_count": 108,
   "metadata": {},
   "outputs": [
    {
     "data": {
      "text/plain": [
       "(425, 10)"
      ]
     },
     "execution_count": 108,
     "metadata": {},
     "output_type": "execute_result"
    }
   ],
   "source": [
    "data.shape"
   ]
  },
  {
   "cell_type": "markdown",
   "metadata": {},
   "source": [
    "<b>Inference - Data has 425 rows and 10 columns."
   ]
  },
  {
   "cell_type": "code",
   "execution_count": 109,
   "metadata": {},
   "outputs": [
    {
     "data": {
      "text/plain": [
       "Date                        object\n",
       "Country                     object\n",
       "Local                       object\n",
       "Industry_sector             object\n",
       "Accident_Level              object\n",
       "Potential_Accident_Level    object\n",
       "Gender                      object\n",
       "Employee_Third_Party        object\n",
       "Critical_Risk               object\n",
       "Description                 object\n",
       "dtype: object"
      ]
     },
     "execution_count": 109,
     "metadata": {},
     "output_type": "execute_result"
    }
   ],
   "source": [
    "data.dtypes"
   ]
  },
  {
   "cell_type": "markdown",
   "metadata": {},
   "source": [
    "# Check Duplicates in the dataset"
   ]
  },
  {
   "cell_type": "code",
   "execution_count": 111,
   "metadata": {},
   "outputs": [],
   "source": [
    "data.drop_duplicates(inplace=True) "
   ]
  },
  {
   "cell_type": "code",
   "execution_count": 112,
   "metadata": {},
   "outputs": [
    {
     "data": {
      "text/plain": [
       "(418, 10)"
      ]
     },
     "execution_count": 112,
     "metadata": {},
     "output_type": "execute_result"
    }
   ],
   "source": [
    "data.shape"
   ]
  },
  {
   "cell_type": "markdown",
   "metadata": {},
   "source": [
    "<b>Data has 418 records after removing duplicates"
   ]
  },
  {
   "cell_type": "markdown",
   "metadata": {},
   "source": [
    "# Pre-processing:"
   ]
  },
  {
   "cell_type": "code",
   "execution_count": 114,
   "metadata": {},
   "outputs": [
    {
     "name": "stderr",
     "output_type": "stream",
     "text": [
      "C:\\Users\\Himanshu K\\anaconda3\\lib\\site-packages\\seaborn\\_decorators.py:36: FutureWarning: Pass the following variable as a keyword arg: x. From version 0.12, the only valid positional argument will be `data`, and passing other arguments without an explicit keyword will result in an error or misinterpretation.\n",
      "  warnings.warn(\n"
     ]
    },
    {
     "data": {
      "image/png": "[encoded data removed]",
      "text/plain": [
       "<Figure size 432x288 with 1 Axes>"
      ]
     },
     "metadata": {
      "needs_background": "light"
     },
     "output_type": "display_data"
    }
   ],
   "source": [
    "#Distribution of Country  attribute\n",
    "\n",
    "sns.countplot(data['Country']);"
   ]
  },
  {
   "cell_type": "markdown",
   "metadata": {},
   "source": [
    "<b>Inference - Country_01 has most numbers of Safety incidents"
   ]
  },
  {
   "cell_type": "code",
   "execution_count": 115,
   "metadata": {},
   "outputs": [
    {
     "data": {
      "text/plain": [
       "<AxesSubplot:>"
      ]
     },
     "execution_count": 115,
     "metadata": {},
     "output_type": "execute_result"
    },
    {
     "data": {
      "image/png": "[encoded data removed]",
      "text/plain": [
       "<Figure size 432x288 with 1 Axes>"
      ]
     },
     "metadata": {
      "needs_background": "light"
     },
     "output_type": "display_data"
    }
   ],
   "source": [
    "#Distribution of Local  attribute\n",
    "\n",
    "data['Local'].value_counts().plot(kind='bar')"
   ]
  },
  {
   "cell_type": "markdown",
   "metadata": {},
   "source": [
    "<b>Inference - Local_03 has most numbers of Safety incidents"
   ]
  },
  {
   "cell_type": "code",
   "execution_count": 117,
   "metadata": {},
   "outputs": [
    {
     "name": "stderr",
     "output_type": "stream",
     "text": [
      "C:\\Users\\Himanshu K\\anaconda3\\lib\\site-packages\\seaborn\\_decorators.py:36: FutureWarning: Pass the following variable as a keyword arg: x. From version 0.12, the only valid positional argument will be `data`, and passing other arguments without an explicit keyword will result in an error or misinterpretation.\n",
      "  warnings.warn(\n"
     ]
    },
    {
     "data": {
      "image/png": "[encoded data removed]",
      "text/plain": [
       "<Figure size 432x288 with 1 Axes>"
      ]
     },
     "metadata": {
      "needs_background": "light"
     },
     "output_type": "display_data"
    }
   ],
   "source": [
    "#Distribution of Industry_sector  attribute\n",
    "\n",
    "sns.countplot(data['Industry_sector']);"
   ]
  },
  {
   "cell_type": "markdown",
   "metadata": {},
   "source": [
    "<b>Inference - Mining is the sector with most numbers of Safety incidents"
   ]
  },
  {
   "cell_type": "code",
   "execution_count": 118,
   "metadata": {},
   "outputs": [
    {
     "name": "stderr",
     "output_type": "stream",
     "text": [
      "C:\\Users\\Himanshu K\\anaconda3\\lib\\site-packages\\seaborn\\_decorators.py:36: FutureWarning: Pass the following variable as a keyword arg: x. From version 0.12, the only valid positional argument will be `data`, and passing other arguments without an explicit keyword will result in an error or misinterpretation.\n",
      "  warnings.warn(\n"
     ]
    },
    {
     "data": {
      "image/png": "[encoded data removed]",
      "text/plain": [
       "<Figure size 432x288 with 1 Axes>"
      ]
     },
     "metadata": {
      "needs_background": "light"
     },
     "output_type": "display_data"
    }
   ],
   "source": [
    "#Distribution of Accident_Level  attribute\n",
    "\n",
    "sns.countplot(data['Accident_Level']);"
   ]
  },
  {
   "cell_type": "markdown",
   "metadata": {},
   "source": [
    "<b>Inference - Accident level I is mostly reported"
   ]
  },
  {
   "cell_type": "code",
   "execution_count": 120,
   "metadata": {},
   "outputs": [
    {
     "name": "stderr",
     "output_type": "stream",
     "text": [
      "C:\\Users\\Himanshu K\\anaconda3\\lib\\site-packages\\seaborn\\_decorators.py:36: FutureWarning: Pass the following variable as a keyword arg: x. From version 0.12, the only valid positional argument will be `data`, and passing other arguments without an explicit keyword will result in an error or misinterpretation.\n",
      "  warnings.warn(\n"
     ]
    },
    {
     "data": {
      "image/png": "[encoded data removed]",
      "text/plain": [
       "<Figure size 432x288 with 1 Axes>"
      ]
     },
     "metadata": {
      "needs_background": "light"
     },
     "output_type": "display_data"
    }
   ],
   "source": [
    "#Distribution of Potential_Accident_Level  attribute\n",
    "\n",
    "sns.countplot(data['Potential_Accident_Level']);"
   ]
  },
  {
   "cell_type": "markdown",
   "metadata": {},
   "source": [
    "<b>Inference - Most of incidents has potential risk of level \"IV\""
   ]
  },
  {
   "cell_type": "code",
   "execution_count": 121,
   "metadata": {},
   "outputs": [
    {
     "name": "stderr",
     "output_type": "stream",
     "text": [
      "C:\\Users\\Himanshu K\\anaconda3\\lib\\site-packages\\seaborn\\_decorators.py:36: FutureWarning: Pass the following variable as a keyword arg: x. From version 0.12, the only valid positional argument will be `data`, and passing other arguments without an explicit keyword will result in an error or misinterpretation.\n",
      "  warnings.warn(\n"
     ]
    },
    {
     "data": {
      "image/png": "[encoded data removed]",
      "text/plain": [
       "<Figure size 432x288 with 1 Axes>"
      ]
     },
     "metadata": {
      "needs_background": "light"
     },
     "output_type": "display_data"
    }
   ],
   "source": [
    "#Distribution of Gender  attribute\n",
    "\n",
    "sns.countplot(data['Gender']);"
   ]
  },
  {
   "cell_type": "markdown",
   "metadata": {},
   "source": [
    "<b>Inference - Most of the Safety incidents are reported by \"Male\""
   ]
  },
  {
   "cell_type": "code",
   "execution_count": 122,
   "metadata": {},
   "outputs": [
    {
     "name": "stderr",
     "output_type": "stream",
     "text": [
      "C:\\Users\\Himanshu K\\anaconda3\\lib\\site-packages\\seaborn\\_decorators.py:36: FutureWarning: Pass the following variable as a keyword arg: x. From version 0.12, the only valid positional argument will be `data`, and passing other arguments without an explicit keyword will result in an error or misinterpretation.\n",
      "  warnings.warn(\n"
     ]
    },
    {
     "data": {
      "image/png": "[encoded data removed]",
      "text/plain": [
       "<Figure size 432x288 with 1 Axes>"
      ]
     },
     "metadata": {
      "needs_background": "light"
     },
     "output_type": "display_data"
    }
   ],
   "source": [
    "#Distribution of Employee_Third_Party  attribute\n",
    "\n",
    "sns.countplot(data['Employee_Third_Party']);"
   ]
  },
  {
   "cell_type": "markdown",
   "metadata": {},
   "source": [
    "<b>Inference - The Employee_Third_Party distribution is almost immaterial"
   ]
  },
  {
   "cell_type": "code",
   "execution_count": 124,
   "metadata": {},
   "outputs": [
    {
     "data": {
      "text/plain": [
       "Others                                       229\n",
       "Pressed                                       24\n",
       "Manual Tools                                  20\n",
       "Chemical substances                           17\n",
       "Cut                                           14\n",
       "Projection                                    13\n",
       "Venomous Animals                              13\n",
       "Bees                                          10\n",
       "Fall                                           9\n",
       "Vehicles and Mobile Equipment                  8\n",
       "Pressurized Systems                            7\n",
       "remains of choco                               7\n",
       "Fall prevention (same level)                   7\n",
       "Fall prevention                                6\n",
       "Suspended Loads                                6\n",
       "Power lock                                     3\n",
       "Pressurized Systems / Chemical Substances      3\n",
       "Blocking and isolation of energies             3\n",
       "Liquid Metal                                   3\n",
       "Electrical Shock                               2\n",
       "Machine Protection                             2\n",
       "Individual protection equipment                1\n",
       "Projection/Manual Tools                        1\n",
       "Projection of fragments                        1\n",
       "Plates                                         1\n",
       "Confined space                                 1\n",
       "Projection/Burning                             1\n",
       "Electrical installation                        1\n",
       "Traffic                                        1\n",
       "Poll                                           1\n",
       "\\nNot applicable                               1\n",
       "Burn                                           1\n",
       "Projection/Choco                               1\n",
       "Name: Critical_Risk, dtype: int64"
      ]
     },
     "execution_count": 124,
     "metadata": {},
     "output_type": "execute_result"
    }
   ],
   "source": [
    "#Distribution of Critical_Risk  attribute\n",
    "data['Critical_Risk'].value_counts()"
   ]
  },
  {
   "cell_type": "code",
   "execution_count": 125,
   "metadata": {},
   "outputs": [
    {
     "data": {
      "text/plain": [
       "<AxesSubplot:xlabel='Industry_sector,Gender'>"
      ]
     },
     "execution_count": 125,
     "metadata": {},
     "output_type": "execute_result"
    },
    {
     "data": {
      "image/png": "[encoded data removed]",
      "text/plain": [
       "<Figure size 432x288 with 1 Axes>"
      ]
     },
     "metadata": {
      "needs_background": "light"
     },
     "output_type": "display_data"
    }
   ],
   "source": [
    "data.groupby('Industry_sector')['Gender'].value_counts().plot(kind = 'bar')"
   ]
  },
  {
   "cell_type": "markdown",
   "metadata": {},
   "source": [
    "<b>Inference - Most of the Safety incidents are reported by \"Male\" and is in Mining sector"
   ]
  },
  {
   "cell_type": "code",
   "execution_count": 127,
   "metadata": {},
   "outputs": [
    {
     "data": {
      "text/plain": [
       "<AxesSubplot:xlabel='Industry_sector,Country'>"
      ]
     },
     "execution_count": 127,
     "metadata": {},
     "output_type": "execute_result"
    },
    {
     "data": {
      "image/png": "[encoded data removed]",
      "text/plain": [
       "<Figure size 432x288 with 1 Axes>"
      ]
     },
     "metadata": {
      "needs_background": "light"
     },
     "output_type": "display_data"
    }
   ],
   "source": [
    "data.groupby('Industry_sector')['Country'].value_counts().plot(kind = 'bar')"
   ]
  },
  {
   "cell_type": "markdown",
   "metadata": {},
   "source": [
    "<b>Inference - Most of the Safety incidents are reported in \"Country_01\" and is in Mining sector"
   ]
  },
  {
   "cell_type": "code",
   "execution_count": 129,
   "metadata": {},
   "outputs": [
    {
     "data": {
      "text/plain": [
       "<AxesSubplot:xlabel='Industry_sector,Accident_Level'>"
      ]
     },
     "execution_count": 129,
     "metadata": {},
     "output_type": "execute_result"
    },
    {
     "data": {
      "image/png": "[encoded data removed]",
      "text/plain": [
       "<Figure size 432x288 with 1 Axes>"
      ]
     },
     "metadata": {
      "needs_background": "light"
     },
     "output_type": "display_data"
    }
   ],
   "source": [
    "data.groupby('Industry_sector')['Accident_Level'].value_counts().plot(kind = 'bar')"
   ]
  },
  {
   "cell_type": "markdown",
   "metadata": {},
   "source": [
    "<b>Inference - Most of the Safety incidents are reported as \"Level I\" and is in Mining sector"
   ]
  },
  {
   "cell_type": "code",
   "execution_count": 130,
   "metadata": {},
   "outputs": [
    {
     "data": {
      "text/plain": [
       "<AxesSubplot:xlabel='Industry_sector,Employee_Third_Party'>"
      ]
     },
     "execution_count": 130,
     "metadata": {},
     "output_type": "execute_result"
    },
    {
     "data": {
      "image/png": "[encoded data removed]",
      "text/plain": [
       "<Figure size 432x288 with 1 Axes>"
      ]
     },
     "metadata": {
      "needs_background": "light"
     },
     "output_type": "display_data"
    }
   ],
   "source": [
    "data.groupby('Industry_sector')['Employee_Third_Party'].value_counts().plot(kind = 'bar')"
   ]
  },
  {
   "cell_type": "markdown",
   "metadata": {},
   "source": [
    "<b>Inference - The Employee_Third_Party distribution is almost immaterial"
   ]
  },
  {
   "cell_type": "code",
   "execution_count": 131,
   "metadata": {},
   "outputs": [
    {
     "data": {
      "text/plain": [
       "<AxesSubplot:xlabel='Country,Gender'>"
      ]
     },
     "execution_count": 131,
     "metadata": {},
     "output_type": "execute_result"
    },
    {
     "data": {
      "image/png": "[encoded data removed]",
      "text/plain": [
       "<Figure size 432x288 with 1 Axes>"
      ]
     },
     "metadata": {
      "needs_background": "light"
     },
     "output_type": "display_data"
    }
   ],
   "source": [
    "data.groupby('Country')['Gender'].value_counts().plot(kind = 'bar')"
   ]
  },
  {
   "cell_type": "markdown",
   "metadata": {},
   "source": [
    "<b>Inference - Most of the Safety incidents are reported by \"Male\" and in Country_01"
   ]
  },
  {
   "cell_type": "code",
   "execution_count": 132,
   "metadata": {},
   "outputs": [
    {
     "data": {
      "text/plain": [
       "<AxesSubplot:xlabel='Accident_Level,Gender'>"
      ]
     },
     "execution_count": 132,
     "metadata": {},
     "output_type": "execute_result"
    },
    {
     "data": {
      "image/png": "[encoded data removed]",
      "text/plain": [
       "<Figure size 432x288 with 1 Axes>"
      ]
     },
     "metadata": {
      "needs_background": "light"
     },
     "output_type": "display_data"
    }
   ],
   "source": [
    "data.groupby('Accident_Level')['Gender'].value_counts().plot(kind = 'bar')"
   ]
  },
  {
   "cell_type": "markdown",
   "metadata": {},
   "source": [
    "<b>Inference - Most of the Safety incidents are reported by \"Male\" and for \"Level I\""
   ]
  },
  {
   "cell_type": "markdown",
   "metadata": {},
   "source": [
    "# Merging useful columns to create the final Input for Model"
   ]
  },
  {
   "cell_type": "code",
   "execution_count": 133,
   "metadata": {},
   "outputs": [],
   "source": [
    "data[\"Final_Description\"] = data[\"Critical_Risk\"] + \" \" + data[\"Description\"]"
   ]
  },
  {
   "cell_type": "code",
   "execution_count": 136,
   "metadata": {},
   "outputs": [
    {
     "data": {
      "text/html": [
       "<div>\n",
       "<style scoped>\n",
       "    .dataframe tbody tr th:only-of-type {\n",
       "        vertical-align: middle;\n",
       "    }\n",
       "\n",
       "    .dataframe tbody tr th {\n",
       "        vertical-align: top;\n",
       "    }\n",
       "\n",
       "    .dataframe thead th {\n",
       "        text-align: right;\n",
       "    }\n",
       "</style>\n",
       "<table border=\"1\" class=\"dataframe\">\n",
       "  <thead>\n",
       "    <tr style=\"text-align: right;\">\n",
       "      <th></th>\n",
       "      <th>Date</th>\n",
       "      <th>Country</th>\n",
       "      <th>Local</th>\n",
       "      <th>Industry_sector</th>\n",
       "      <th>Accident_Level</th>\n",
       "      <th>Potential_Accident_Level</th>\n",
       "      <th>Gender</th>\n",
       "      <th>Employee_Third_Party</th>\n",
       "      <th>Critical_Risk</th>\n",
       "      <th>Description</th>\n",
       "      <th>Final_Description</th>\n",
       "    </tr>\n",
       "  </thead>\n",
       "  <tbody>\n",
       "    <tr>\n",
       "      <th>0</th>\n",
       "      <td>2016-01-01 00:00:00</td>\n",
       "      <td>Country_01</td>\n",
       "      <td>Local_01</td>\n",
       "      <td>Mining</td>\n",
       "      <td>I</td>\n",
       "      <td>IV</td>\n",
       "      <td>Male</td>\n",
       "      <td>Third Party</td>\n",
       "      <td>Pressed</td>\n",
       "      <td>While removing the drill rod of the Jumbo 08 f...</td>\n",
       "      <td>Pressed While removing the drill rod of the Ju...</td>\n",
       "    </tr>\n",
       "    <tr>\n",
       "      <th>1</th>\n",
       "      <td>2016-01-02 00:00:00</td>\n",
       "      <td>Country_02</td>\n",
       "      <td>Local_02</td>\n",
       "      <td>Mining</td>\n",
       "      <td>I</td>\n",
       "      <td>IV</td>\n",
       "      <td>Male</td>\n",
       "      <td>Employee</td>\n",
       "      <td>Pressurized Systems</td>\n",
       "      <td>During the activation of a sodium sulphide pum...</td>\n",
       "      <td>Pressurized Systems During the activation of a...</td>\n",
       "    </tr>\n",
       "    <tr>\n",
       "      <th>2</th>\n",
       "      <td>2016-01-06 00:00:00</td>\n",
       "      <td>Country_01</td>\n",
       "      <td>Local_03</td>\n",
       "      <td>Mining</td>\n",
       "      <td>I</td>\n",
       "      <td>III</td>\n",
       "      <td>Male</td>\n",
       "      <td>Third Party (Remote)</td>\n",
       "      <td>Manual Tools</td>\n",
       "      <td>In the sub-station MILPO located at level +170...</td>\n",
       "      <td>Manual Tools In the sub-station MILPO located ...</td>\n",
       "    </tr>\n",
       "    <tr>\n",
       "      <th>3</th>\n",
       "      <td>2016-01-08 00:00:00</td>\n",
       "      <td>Country_01</td>\n",
       "      <td>Local_04</td>\n",
       "      <td>Mining</td>\n",
       "      <td>I</td>\n",
       "      <td>I</td>\n",
       "      <td>Male</td>\n",
       "      <td>Third Party</td>\n",
       "      <td>Others</td>\n",
       "      <td>Being 9:45 am. approximately in the Nv. 1880 C...</td>\n",
       "      <td>Others Being 9:45 am. approximately in the Nv....</td>\n",
       "    </tr>\n",
       "    <tr>\n",
       "      <th>4</th>\n",
       "      <td>2016-01-10 00:00:00</td>\n",
       "      <td>Country_01</td>\n",
       "      <td>Local_04</td>\n",
       "      <td>Mining</td>\n",
       "      <td>IV</td>\n",
       "      <td>IV</td>\n",
       "      <td>Male</td>\n",
       "      <td>Third Party</td>\n",
       "      <td>Others</td>\n",
       "      <td>Approximately at 11:45 a.m. in circumstances t...</td>\n",
       "      <td>Others Approximately at 11:45 a.m. in circumst...</td>\n",
       "    </tr>\n",
       "  </tbody>\n",
       "</table>\n",
       "</div>"
      ],
      "text/plain": [
       "                  Date     Country     Local Industry_sector Accident_Level  \\\n",
       "0  2016-01-01 00:00:00  Country_01  Local_01          Mining              I   \n",
       "1  2016-01-02 00:00:00  Country_02  Local_02          Mining              I   \n",
       "2  2016-01-06 00:00:00  Country_01  Local_03          Mining              I   \n",
       "3  2016-01-08 00:00:00  Country_01  Local_04          Mining              I   \n",
       "4  2016-01-10 00:00:00  Country_01  Local_04          Mining             IV   \n",
       "\n",
       "  Potential_Accident_Level Gender  Employee_Third_Party        Critical_Risk  \\\n",
       "0                       IV   Male           Third Party              Pressed   \n",
       "1                       IV   Male              Employee  Pressurized Systems   \n",
       "2                      III   Male  Third Party (Remote)         Manual Tools   \n",
       "3                        I   Male           Third Party               Others   \n",
       "4                       IV   Male           Third Party               Others   \n",
       "\n",
       "                                         Description  \\\n",
       "0  While removing the drill rod of the Jumbo 08 f...   \n",
       "1  During the activation of a sodium sulphide pum...   \n",
       "2  In the sub-station MILPO located at level +170...   \n",
       "3  Being 9:45 am. approximately in the Nv. 1880 C...   \n",
       "4  Approximately at 11:45 a.m. in circumstances t...   \n",
       "\n",
       "                                   Final_Description  \n",
       "0  Pressed While removing the drill rod of the Ju...  \n",
       "1  Pressurized Systems During the activation of a...  \n",
       "2  Manual Tools In the sub-station MILPO located ...  \n",
       "3  Others Being 9:45 am. approximately in the Nv....  \n",
       "4  Others Approximately at 11:45 a.m. in circumst...  "
      ]
     },
     "execution_count": 136,
     "metadata": {},
     "output_type": "execute_result"
    }
   ],
   "source": [
    "data.head()"
   ]
  },
  {
   "cell_type": "markdown",
   "metadata": {},
   "source": [
    "# Deleting columns to create the final Input for Model"
   ]
  },
  {
   "cell_type": "code",
   "execution_count": 69,
   "metadata": {},
   "outputs": [],
   "source": [
    "data.drop(['Date','Country','Local','Industry_sector','Potential_Accident_Level','Gender','Employee_Third_Party','Critical_Risk','Description'],axis=1,inplace=True)"
   ]
  },
  {
   "cell_type": "code",
   "execution_count": 74,
   "metadata": {},
   "outputs": [
    {
     "data": {
      "text/html": [
       "<div>\n",
       "<style scoped>\n",
       "    .dataframe tbody tr th:only-of-type {\n",
       "        vertical-align: middle;\n",
       "    }\n",
       "\n",
       "    .dataframe tbody tr th {\n",
       "        vertical-align: top;\n",
       "    }\n",
       "\n",
       "    .dataframe thead th {\n",
       "        text-align: right;\n",
       "    }\n",
       "</style>\n",
       "<table border=\"1\" class=\"dataframe\">\n",
       "  <thead>\n",
       "    <tr style=\"text-align: right;\">\n",
       "      <th></th>\n",
       "      <th>Accident_Level</th>\n",
       "      <th>Final_Description</th>\n",
       "    </tr>\n",
       "  </thead>\n",
       "  <tbody>\n",
       "    <tr>\n",
       "      <th>0</th>\n",
       "      <td>I</td>\n",
       "      <td>Pressed While removing the drill rod of the Ju...</td>\n",
       "    </tr>\n",
       "    <tr>\n",
       "      <th>1</th>\n",
       "      <td>I</td>\n",
       "      <td>Pressurized Systems During the activation of a...</td>\n",
       "    </tr>\n",
       "    <tr>\n",
       "      <th>2</th>\n",
       "      <td>I</td>\n",
       "      <td>Manual Tools In the sub-station MILPO located ...</td>\n",
       "    </tr>\n",
       "    <tr>\n",
       "      <th>3</th>\n",
       "      <td>I</td>\n",
       "      <td>Others Being 9:45 am. approximately in the Nv....</td>\n",
       "    </tr>\n",
       "    <tr>\n",
       "      <th>4</th>\n",
       "      <td>IV</td>\n",
       "      <td>Others Approximately at 11:45 a.m. in circumst...</td>\n",
       "    </tr>\n",
       "  </tbody>\n",
       "</table>\n",
       "</div>"
      ],
      "text/plain": [
       "  Accident_Level                                  Final_Description\n",
       "0              I  Pressed While removing the drill rod of the Ju...\n",
       "1              I  Pressurized Systems During the activation of a...\n",
       "2              I  Manual Tools In the sub-station MILPO located ...\n",
       "3              I  Others Being 9:45 am. approximately in the Nv....\n",
       "4             IV  Others Approximately at 11:45 a.m. in circumst..."
      ]
     },
     "execution_count": 74,
     "metadata": {},
     "output_type": "execute_result"
    }
   ],
   "source": [
    "data.head()"
   ]
  },
  {
   "cell_type": "code",
   "execution_count": 137,
   "metadata": {},
   "outputs": [],
   "source": [
    "y=data['Accident_Level']"
   ]
  },
  {
   "cell_type": "code",
   "execution_count": 139,
   "metadata": {},
   "outputs": [],
   "source": [
    "X=data[['Final_Description']]"
   ]
  },
  {
   "cell_type": "markdown",
   "metadata": {},
   "source": [
    "# Imbalance dataset Handling"
   ]
  },
  {
   "cell_type": "code",
   "execution_count": 78,
   "metadata": {},
   "outputs": [
    {
     "name": "stderr",
     "output_type": "stream",
     "text": [
      "C:\\Users\\Himanshu K\\anaconda3\\lib\\site-packages\\seaborn\\_decorators.py:36: FutureWarning: Pass the following variable as a keyword arg: x. From version 0.12, the only valid positional argument will be `data`, and passing other arguments without an explicit keyword will result in an error or misinterpretation.\n",
      "  warnings.warn(\n"
     ]
    },
    {
     "data": {
      "image/png": "[encoded data removed]",
      "text/plain": [
       "<Figure size 432x288 with 1 Axes>"
      ]
     },
     "metadata": {
      "needs_background": "light"
     },
     "output_type": "display_data"
    }
   ],
   "source": [
    "#Distribution of Accident_Level  attribute\n",
    "\n",
    "sns.countplot(y);"
   ]
  },
  {
   "cell_type": "code",
   "execution_count": 72,
   "metadata": {},
   "outputs": [],
   "source": [
    "from imblearn.over_sampling import SMOTEN"
   ]
  },
  {
   "cell_type": "code",
   "execution_count": 89,
   "metadata": {},
   "outputs": [],
   "source": [
    "sm = SMOTEN(k_neighbors=5, random_state=1)"
   ]
  },
  {
   "cell_type": "code",
   "execution_count": 90,
   "metadata": {},
   "outputs": [],
   "source": [
    "X_res, y_res = sm.fit_resample(X, y)"
   ]
  },
  {
   "cell_type": "code",
   "execution_count": 92,
   "metadata": {},
   "outputs": [
    {
     "name": "stderr",
     "output_type": "stream",
     "text": [
      "C:\\Users\\Himanshu K\\anaconda3\\lib\\site-packages\\seaborn\\_decorators.py:36: FutureWarning: Pass the following variable as a keyword arg: x. From version 0.12, the only valid positional argument will be `data`, and passing other arguments without an explicit keyword will result in an error or misinterpretation.\n",
      "  warnings.warn(\n"
     ]
    },
    {
     "data": {
      "image/png": "[encoded data removed]",
      "text/plain": [
       "<Figure size 432x288 with 1 Axes>"
      ]
     },
     "metadata": {
      "needs_background": "light"
     },
     "output_type": "display_data"
    }
   ],
   "source": [
    "#Distribution of Accident_Level  attribute\n",
    "\n",
    "sns.countplot(y_res);"
   ]
  },
  {
   "cell_type": "code",
   "execution_count": 93,
   "metadata": {},
   "outputs": [
    {
     "data": {
      "text/plain": [
       "(418, 2)"
      ]
     },
     "execution_count": 93,
     "metadata": {},
     "output_type": "execute_result"
    }
   ],
   "source": [
    "data.shape"
   ]
  },
  {
   "cell_type": "code",
   "execution_count": 94,
   "metadata": {},
   "outputs": [],
   "source": [
    "concatenated_data = pd.concat([X_res, y_res], axis=1)"
   ]
  },
  {
   "cell_type": "code",
   "execution_count": 95,
   "metadata": {},
   "outputs": [
    {
     "data": {
      "text/plain": [
       "(1545, 2)"
      ]
     },
     "execution_count": 95,
     "metadata": {},
     "output_type": "execute_result"
    }
   ],
   "source": [
    "concatenated_data.shape"
   ]
  },
  {
   "cell_type": "markdown",
   "metadata": {},
   "source": [
    "<b>Inference - The final input has 1545 records after oversampling"
   ]
  },
  {
   "cell_type": "markdown",
   "metadata": {},
   "source": [
    "# Displaying Final Dataset after Pre-processing"
   ]
  },
  {
   "cell_type": "code",
   "execution_count": 141,
   "metadata": {},
   "outputs": [
    {
     "data": {
      "text/html": [
       "<div>\n",
       "<style scoped>\n",
       "    .dataframe tbody tr th:only-of-type {\n",
       "        vertical-align: middle;\n",
       "    }\n",
       "\n",
       "    .dataframe tbody tr th {\n",
       "        vertical-align: top;\n",
       "    }\n",
       "\n",
       "    .dataframe thead th {\n",
       "        text-align: right;\n",
       "    }\n",
       "</style>\n",
       "<table border=\"1\" class=\"dataframe\">\n",
       "  <thead>\n",
       "    <tr style=\"text-align: right;\">\n",
       "      <th></th>\n",
       "      <th>Final_Description</th>\n",
       "      <th>Accident_Level</th>\n",
       "    </tr>\n",
       "  </thead>\n",
       "  <tbody>\n",
       "    <tr>\n",
       "      <th>0</th>\n",
       "      <td>Pressed While removing the drill rod of the Ju...</td>\n",
       "      <td>I</td>\n",
       "    </tr>\n",
       "    <tr>\n",
       "      <th>1</th>\n",
       "      <td>Pressurized Systems During the activation of a...</td>\n",
       "      <td>I</td>\n",
       "    </tr>\n",
       "    <tr>\n",
       "      <th>2</th>\n",
       "      <td>Manual Tools In the sub-station MILPO located ...</td>\n",
       "      <td>I</td>\n",
       "    </tr>\n",
       "    <tr>\n",
       "      <th>3</th>\n",
       "      <td>Others Being 9:45 am. approximately in the Nv....</td>\n",
       "      <td>I</td>\n",
       "    </tr>\n",
       "    <tr>\n",
       "      <th>4</th>\n",
       "      <td>Others Approximately at 11:45 a.m. in circumst...</td>\n",
       "      <td>IV</td>\n",
       "    </tr>\n",
       "  </tbody>\n",
       "</table>\n",
       "</div>"
      ],
      "text/plain": [
       "                                   Final_Description Accident_Level\n",
       "0  Pressed While removing the drill rod of the Ju...              I\n",
       "1  Pressurized Systems During the activation of a...              I\n",
       "2  Manual Tools In the sub-station MILPO located ...              I\n",
       "3  Others Being 9:45 am. approximately in the Nv....              I\n",
       "4  Others Approximately at 11:45 a.m. in circumst...             IV"
      ]
     },
     "execution_count": 141,
     "metadata": {},
     "output_type": "execute_result"
    }
   ],
   "source": [
    "concatenated_data.head()"
   ]
  },
  {
   "cell_type": "markdown",
   "metadata": {},
   "source": [
    "# Export the final dataset to .csv file"
   ]
  },
  {
   "cell_type": "code",
   "execution_count": 143,
   "metadata": {},
   "outputs": [],
   "source": [
    "concatenated_data.to_csv('C:/Users/Himanshu K/Downloads/Python Scripts/Capstone/capstone_dataset.csv')  "
   ]
  },
  {
   "cell_type": "markdown",
   "metadata": {},
   "source": [
    "# Milestone 2"
   ]
  },
  {
   "cell_type": "markdown",
   "metadata": {},
   "source": [
    "# Import Libraries for NLP"
   ]
  },
  {
   "cell_type": "code",
   "execution_count": 168,
   "metadata": {},
   "outputs": [
    {
     "name": "stderr",
     "output_type": "stream",
     "text": [
      "UsageError: Line magic function `%tensorflow_version` not found.\n"
     ]
    }
   ],
   "source": [
    "%tensorflow_version 2.x\n",
    "import tensorflow\n",
    "tensorflow.__version__"
   ]
  },
  {
   "cell_type": "code",
   "execution_count": 169,
   "metadata": {},
   "outputs": [],
   "source": [
    "# Initialize the random number generator\n",
    "\n",
    "import  random\n",
    "random.seed(0)                                   #### For weight initialization\n",
    "\n",
    "# Ignore the warnings\n",
    "\n",
    "import warnings\n",
    "warnings.filterwarnings(\"ignore\")"
   ]
  },
  {
   "cell_type": "code",
   "execution_count": 152,
   "metadata": {},
   "outputs": [
    {
     "name": "stderr",
     "output_type": "stream",
     "text": [
      "[nltk_data] Downloading package punkt to C:\\Users\\Himanshu\n",
      "[nltk_data]     K\\AppData\\Roaming\\nltk_data...\n",
      "[nltk_data]   Package punkt is already up-to-date!\n",
      "[nltk_data] Downloading package wordnet to C:\\Users\\Himanshu\n",
      "[nltk_data]     K\\AppData\\Roaming\\nltk_data...\n",
      "[nltk_data]   Package wordnet is already up-to-date!\n"
     ]
    },
    {
     "data": {
      "text/plain": [
       "True"
      ]
     },
     "execution_count": 152,
     "metadata": {},
     "output_type": "execute_result"
    }
   ],
   "source": [
    "import nltk\n",
    "from nltk.tokenize import sent_tokenize, word_tokenize\n",
    "\n",
    "from sklearn.feature_extraction.text import CountVectorizer\n",
    "from nltk.corpus import stopwords\n",
    "from nltk.stem import WordNetLemmatizer,PorterStemmer\n",
    "\n",
    "from wordcloud import WordCloud, STOPWORDS\n",
    "nltk.download('punkt')\n",
    "nltk.download('wordnet')"
   ]
  },
  {
   "cell_type": "markdown",
   "metadata": {},
   "source": [
    "# Import .CSV file"
   ]
  },
  {
   "cell_type": "code",
   "execution_count": 222,
   "metadata": {},
   "outputs": [],
   "source": [
    "data = pd.read_csv(\"C:/Users/Himanshu K/Downloads/Python Scripts/Capstone/capstone_dataset.csv\",\n",
    "                  names = ['Index','Description','Accident_Level'],skiprows=1)"
   ]
  },
  {
   "cell_type": "markdown",
   "metadata": {},
   "source": [
    "# Preview Data"
   ]
  },
  {
   "cell_type": "code",
   "execution_count": 223,
   "metadata": {},
   "outputs": [
    {
     "data": {
      "text/html": [
       "<div>\n",
       "<style scoped>\n",
       "    .dataframe tbody tr th:only-of-type {\n",
       "        vertical-align: middle;\n",
       "    }\n",
       "\n",
       "    .dataframe tbody tr th {\n",
       "        vertical-align: top;\n",
       "    }\n",
       "\n",
       "    .dataframe thead th {\n",
       "        text-align: right;\n",
       "    }\n",
       "</style>\n",
       "<table border=\"1\" class=\"dataframe\">\n",
       "  <thead>\n",
       "    <tr style=\"text-align: right;\">\n",
       "      <th></th>\n",
       "      <th>Index</th>\n",
       "      <th>Description</th>\n",
       "      <th>Accident_Level</th>\n",
       "    </tr>\n",
       "  </thead>\n",
       "  <tbody>\n",
       "    <tr>\n",
       "      <th>0</th>\n",
       "      <td>0</td>\n",
       "      <td>Pressed While removing the drill rod of the Ju...</td>\n",
       "      <td>I</td>\n",
       "    </tr>\n",
       "    <tr>\n",
       "      <th>1</th>\n",
       "      <td>1</td>\n",
       "      <td>Pressurized Systems During the activation of a...</td>\n",
       "      <td>I</td>\n",
       "    </tr>\n",
       "    <tr>\n",
       "      <th>2</th>\n",
       "      <td>2</td>\n",
       "      <td>Manual Tools In the sub-station MILPO located ...</td>\n",
       "      <td>I</td>\n",
       "    </tr>\n",
       "    <tr>\n",
       "      <th>3</th>\n",
       "      <td>3</td>\n",
       "      <td>Others Being 9:45 am. approximately in the Nv....</td>\n",
       "      <td>I</td>\n",
       "    </tr>\n",
       "    <tr>\n",
       "      <th>4</th>\n",
       "      <td>4</td>\n",
       "      <td>Others Approximately at 11:45 a.m. in circumst...</td>\n",
       "      <td>IV</td>\n",
       "    </tr>\n",
       "  </tbody>\n",
       "</table>\n",
       "</div>"
      ],
      "text/plain": [
       "   Index                                        Description Accident_Level\n",
       "0      0  Pressed While removing the drill rod of the Ju...              I\n",
       "1      1  Pressurized Systems During the activation of a...              I\n",
       "2      2  Manual Tools In the sub-station MILPO located ...              I\n",
       "3      3  Others Being 9:45 am. approximately in the Nv....              I\n",
       "4      4  Others Approximately at 11:45 a.m. in circumst...             IV"
      ]
     },
     "execution_count": 223,
     "metadata": {},
     "output_type": "execute_result"
    }
   ],
   "source": [
    "data.head()"
   ]
  },
  {
   "cell_type": "code",
   "execution_count": 224,
   "metadata": {},
   "outputs": [],
   "source": [
    "data.drop(['Index'],axis=1,inplace=True)"
   ]
  },
  {
   "cell_type": "code",
   "execution_count": 225,
   "metadata": {},
   "outputs": [
    {
     "data": {
      "text/html": [
       "<div>\n",
       "<style scoped>\n",
       "    .dataframe tbody tr th:only-of-type {\n",
       "        vertical-align: middle;\n",
       "    }\n",
       "\n",
       "    .dataframe tbody tr th {\n",
       "        vertical-align: top;\n",
       "    }\n",
       "\n",
       "    .dataframe thead th {\n",
       "        text-align: right;\n",
       "    }\n",
       "</style>\n",
       "<table border=\"1\" class=\"dataframe\">\n",
       "  <thead>\n",
       "    <tr style=\"text-align: right;\">\n",
       "      <th></th>\n",
       "      <th>Description</th>\n",
       "      <th>Accident_Level</th>\n",
       "    </tr>\n",
       "  </thead>\n",
       "  <tbody>\n",
       "    <tr>\n",
       "      <th>0</th>\n",
       "      <td>Pressed While removing the drill rod of the Ju...</td>\n",
       "      <td>I</td>\n",
       "    </tr>\n",
       "    <tr>\n",
       "      <th>1</th>\n",
       "      <td>Pressurized Systems During the activation of a...</td>\n",
       "      <td>I</td>\n",
       "    </tr>\n",
       "    <tr>\n",
       "      <th>2</th>\n",
       "      <td>Manual Tools In the sub-station MILPO located ...</td>\n",
       "      <td>I</td>\n",
       "    </tr>\n",
       "    <tr>\n",
       "      <th>3</th>\n",
       "      <td>Others Being 9:45 am. approximately in the Nv....</td>\n",
       "      <td>I</td>\n",
       "    </tr>\n",
       "    <tr>\n",
       "      <th>4</th>\n",
       "      <td>Others Approximately at 11:45 a.m. in circumst...</td>\n",
       "      <td>IV</td>\n",
       "    </tr>\n",
       "  </tbody>\n",
       "</table>\n",
       "</div>"
      ],
      "text/plain": [
       "                                         Description Accident_Level\n",
       "0  Pressed While removing the drill rod of the Ju...              I\n",
       "1  Pressurized Systems During the activation of a...              I\n",
       "2  Manual Tools In the sub-station MILPO located ...              I\n",
       "3  Others Being 9:45 am. approximately in the Nv....              I\n",
       "4  Others Approximately at 11:45 a.m. in circumst...             IV"
      ]
     },
     "execution_count": 225,
     "metadata": {},
     "output_type": "execute_result"
    }
   ],
   "source": [
    "data.head()"
   ]
  },
  {
   "cell_type": "markdown",
   "metadata": {},
   "source": [
    "# Check the shape of dataset"
   ]
  },
  {
   "cell_type": "code",
   "execution_count": 226,
   "metadata": {},
   "outputs": [
    {
     "data": {
      "text/plain": [
       "(1545, 2)"
      ]
     },
     "execution_count": 226,
     "metadata": {},
     "output_type": "execute_result"
    }
   ],
   "source": [
    "data.shape"
   ]
  },
  {
   "cell_type": "markdown",
   "metadata": {},
   "source": [
    "<b>Inference - Data has 1545 records"
   ]
  },
  {
   "cell_type": "markdown",
   "metadata": {},
   "source": [
    "# Show WordCloud"
   ]
  },
  {
   "cell_type": "code",
   "execution_count": 227,
   "metadata": {},
   "outputs": [
    {
     "data": {
      "image/png": "[encoded data removed]",
      "text/plain": [
       "<Figure size 1080x720 with 1 Axes>"
      ]
     },
     "metadata": {
      "needs_background": "light"
     },
     "output_type": "display_data"
    }
   ],
   "source": [
    "from wordcloud import WordCloud\n",
    "from wordcloud import STOPWORDS\n",
    "from wordcloud import ImageColorGenerator\n",
    "text = \" \".join(i for i in data.Description)\n",
    "stopwords = set(STOPWORDS)\n",
    "wordcloud = WordCloud(stopwords=stopwords, background_color='black', colormap='rainbow').generate(text)\n",
    "plt.figure( figsize=(15,10))\n",
    "plt.imshow(wordcloud, interpolation='bilinear')\n",
    "plt.axis(\"off\")\n",
    "plt.show()"
   ]
  },
  {
   "cell_type": "markdown",
   "metadata": {},
   "source": [
    "# Removing Special Characters & Punctuations"
   ]
  },
  {
   "cell_type": "code",
   "execution_count": 187,
   "metadata": {},
   "outputs": [
    {
     "data": {
      "text/plain": [
       "'!\"#$%&\\'()*+,-./:;<=>?@[\\\\]^_`{|}~'"
      ]
     },
     "execution_count": 187,
     "metadata": {},
     "output_type": "execute_result"
    }
   ],
   "source": [
    "#library that contains punctuation\n",
    "import string\n",
    "string.punctuation"
   ]
  },
  {
   "cell_type": "code",
   "execution_count": 188,
   "metadata": {},
   "outputs": [],
   "source": [
    "#defining the function to remove punctuation\n",
    "def remove_punctuation(text):\n",
    "    punctuationfree=\"\".join([i for i in text if i not in string.punctuation])\n",
    "    return punctuationfree"
   ]
  },
  {
   "cell_type": "code",
   "execution_count": 189,
   "metadata": {},
   "outputs": [],
   "source": [
    "#storing the puntuation free text\n",
    "data['Description']= data['Description'].apply(lambda x:remove_punctuation(x))"
   ]
  },
  {
   "cell_type": "code",
   "execution_count": 190,
   "metadata": {},
   "outputs": [
    {
     "data": {
      "text/html": [
       "<div>\n",
       "<style scoped>\n",
       "    .dataframe tbody tr th:only-of-type {\n",
       "        vertical-align: middle;\n",
       "    }\n",
       "\n",
       "    .dataframe tbody tr th {\n",
       "        vertical-align: top;\n",
       "    }\n",
       "\n",
       "    .dataframe thead th {\n",
       "        text-align: right;\n",
       "    }\n",
       "</style>\n",
       "<table border=\"1\" class=\"dataframe\">\n",
       "  <thead>\n",
       "    <tr style=\"text-align: right;\">\n",
       "      <th></th>\n",
       "      <th>Description</th>\n",
       "      <th>Accident_Level</th>\n",
       "      <th>nWords</th>\n",
       "    </tr>\n",
       "  </thead>\n",
       "  <tbody>\n",
       "    <tr>\n",
       "      <th>0</th>\n",
       "      <td>Pressed While removing the drill rod of the Ju...</td>\n",
       "      <td>I</td>\n",
       "      <td>85</td>\n",
       "    </tr>\n",
       "    <tr>\n",
       "      <th>1</th>\n",
       "      <td>Pressurized Systems During the activation of a...</td>\n",
       "      <td>I</td>\n",
       "      <td>61</td>\n",
       "    </tr>\n",
       "    <tr>\n",
       "      <th>2</th>\n",
       "      <td>Manual Tools In the substation MILPO located a...</td>\n",
       "      <td>I</td>\n",
       "      <td>64</td>\n",
       "    </tr>\n",
       "    <tr>\n",
       "      <th>3</th>\n",
       "      <td>Others Being 945 am approximately in the Nv 18...</td>\n",
       "      <td>I</td>\n",
       "      <td>111</td>\n",
       "    </tr>\n",
       "    <tr>\n",
       "      <th>4</th>\n",
       "      <td>Others Approximately at 1145 am in circumstanc...</td>\n",
       "      <td>IV</td>\n",
       "      <td>101</td>\n",
       "    </tr>\n",
       "  </tbody>\n",
       "</table>\n",
       "</div>"
      ],
      "text/plain": [
       "                                         Description Accident_Level  nWords\n",
       "0  Pressed While removing the drill rod of the Ju...              I      85\n",
       "1  Pressurized Systems During the activation of a...              I      61\n",
       "2  Manual Tools In the substation MILPO located a...              I      64\n",
       "3  Others Being 945 am approximately in the Nv 18...              I     111\n",
       "4  Others Approximately at 1145 am in circumstanc...             IV     101"
      ]
     },
     "execution_count": 190,
     "metadata": {},
     "output_type": "execute_result"
    }
   ],
   "source": [
    "data.head()"
   ]
  },
  {
   "cell_type": "markdown",
   "metadata": {},
   "source": [
    "# Lowering the text: "
   ]
  },
  {
   "cell_type": "code",
   "execution_count": 191,
   "metadata": {},
   "outputs": [],
   "source": [
    "data['Description']= data['Description'].apply(lambda x: x.lower())"
   ]
  },
  {
   "cell_type": "code",
   "execution_count": 192,
   "metadata": {},
   "outputs": [
    {
     "data": {
      "text/html": [
       "<div>\n",
       "<style scoped>\n",
       "    .dataframe tbody tr th:only-of-type {\n",
       "        vertical-align: middle;\n",
       "    }\n",
       "\n",
       "    .dataframe tbody tr th {\n",
       "        vertical-align: top;\n",
       "    }\n",
       "\n",
       "    .dataframe thead th {\n",
       "        text-align: right;\n",
       "    }\n",
       "</style>\n",
       "<table border=\"1\" class=\"dataframe\">\n",
       "  <thead>\n",
       "    <tr style=\"text-align: right;\">\n",
       "      <th></th>\n",
       "      <th>Description</th>\n",
       "      <th>Accident_Level</th>\n",
       "      <th>nWords</th>\n",
       "    </tr>\n",
       "  </thead>\n",
       "  <tbody>\n",
       "    <tr>\n",
       "      <th>0</th>\n",
       "      <td>pressed while removing the drill rod of the ju...</td>\n",
       "      <td>I</td>\n",
       "      <td>85</td>\n",
       "    </tr>\n",
       "    <tr>\n",
       "      <th>1</th>\n",
       "      <td>pressurized systems during the activation of a...</td>\n",
       "      <td>I</td>\n",
       "      <td>61</td>\n",
       "    </tr>\n",
       "    <tr>\n",
       "      <th>2</th>\n",
       "      <td>manual tools in the substation milpo located a...</td>\n",
       "      <td>I</td>\n",
       "      <td>64</td>\n",
       "    </tr>\n",
       "    <tr>\n",
       "      <th>3</th>\n",
       "      <td>others being 945 am approximately in the nv 18...</td>\n",
       "      <td>I</td>\n",
       "      <td>111</td>\n",
       "    </tr>\n",
       "    <tr>\n",
       "      <th>4</th>\n",
       "      <td>others approximately at 1145 am in circumstanc...</td>\n",
       "      <td>IV</td>\n",
       "      <td>101</td>\n",
       "    </tr>\n",
       "  </tbody>\n",
       "</table>\n",
       "</div>"
      ],
      "text/plain": [
       "                                         Description Accident_Level  nWords\n",
       "0  pressed while removing the drill rod of the ju...              I      85\n",
       "1  pressurized systems during the activation of a...              I      61\n",
       "2  manual tools in the substation milpo located a...              I      64\n",
       "3  others being 945 am approximately in the nv 18...              I     111\n",
       "4  others approximately at 1145 am in circumstanc...             IV     101"
      ]
     },
     "execution_count": 192,
     "metadata": {},
     "output_type": "execute_result"
    }
   ],
   "source": [
    "data.head()"
   ]
  },
  {
   "cell_type": "markdown",
   "metadata": {},
   "source": [
    "# Tokenization: "
   ]
  },
  {
   "cell_type": "code",
   "execution_count": 193,
   "metadata": {},
   "outputs": [],
   "source": [
    "#defining function for tokenization\n",
    "import re\n",
    "def tokenization(text):\n",
    "    tokens = re.split('W+',text)\n",
    "    return tokens"
   ]
  },
  {
   "cell_type": "code",
   "execution_count": 194,
   "metadata": {},
   "outputs": [],
   "source": [
    "#applying function to the column\n",
    "data['Description']= data['Description'].apply(lambda x: tokenization(x))"
   ]
  },
  {
   "cell_type": "code",
   "execution_count": 196,
   "metadata": {},
   "outputs": [
    {
     "data": {
      "text/html": [
       "<div>\n",
       "<style scoped>\n",
       "    .dataframe tbody tr th:only-of-type {\n",
       "        vertical-align: middle;\n",
       "    }\n",
       "\n",
       "    .dataframe tbody tr th {\n",
       "        vertical-align: top;\n",
       "    }\n",
       "\n",
       "    .dataframe thead th {\n",
       "        text-align: right;\n",
       "    }\n",
       "</style>\n",
       "<table border=\"1\" class=\"dataframe\">\n",
       "  <thead>\n",
       "    <tr style=\"text-align: right;\">\n",
       "      <th></th>\n",
       "      <th>Description</th>\n",
       "      <th>Accident_Level</th>\n",
       "      <th>nWords</th>\n",
       "    </tr>\n",
       "  </thead>\n",
       "  <tbody>\n",
       "    <tr>\n",
       "      <th>0</th>\n",
       "      <td>[pressed while removing the drill rod of the j...</td>\n",
       "      <td>I</td>\n",
       "      <td>85</td>\n",
       "    </tr>\n",
       "    <tr>\n",
       "      <th>1</th>\n",
       "      <td>[pressurized systems during the activation of ...</td>\n",
       "      <td>I</td>\n",
       "      <td>61</td>\n",
       "    </tr>\n",
       "    <tr>\n",
       "      <th>2</th>\n",
       "      <td>[manual tools in the substation milpo located ...</td>\n",
       "      <td>I</td>\n",
       "      <td>64</td>\n",
       "    </tr>\n",
       "    <tr>\n",
       "      <th>3</th>\n",
       "      <td>[others being 945 am approximately in the nv 1...</td>\n",
       "      <td>I</td>\n",
       "      <td>111</td>\n",
       "    </tr>\n",
       "    <tr>\n",
       "      <th>4</th>\n",
       "      <td>[others approximately at 1145 am in circumstan...</td>\n",
       "      <td>IV</td>\n",
       "      <td>101</td>\n",
       "    </tr>\n",
       "  </tbody>\n",
       "</table>\n",
       "</div>"
      ],
      "text/plain": [
       "                                         Description Accident_Level  nWords\n",
       "0  [pressed while removing the drill rod of the j...              I      85\n",
       "1  [pressurized systems during the activation of ...              I      61\n",
       "2  [manual tools in the substation milpo located ...              I      64\n",
       "3  [others being 945 am approximately in the nv 1...              I     111\n",
       "4  [others approximately at 1145 am in circumstan...             IV     101"
      ]
     },
     "execution_count": 196,
     "metadata": {},
     "output_type": "execute_result"
    }
   ],
   "source": [
    " data.head()"
   ]
  },
  {
   "cell_type": "markdown",
   "metadata": {},
   "source": [
    "# Lemmatization: "
   ]
  },
  {
   "cell_type": "code",
   "execution_count": 199,
   "metadata": {},
   "outputs": [],
   "source": [
    "from nltk.stem import WordNetLemmatizer\n",
    "#defining the object for Lemmatization\n",
    "wordnet_lemmatizer = WordNetLemmatizer()"
   ]
  },
  {
   "cell_type": "code",
   "execution_count": 202,
   "metadata": {},
   "outputs": [],
   "source": [
    "#defining the function for lemmatization\n",
    "def lemmatizer(text):\n",
    "    lemm_text = [wordnet_lemmatizer.lemmatize(word) for word in text]\n",
    "    return lemm_text"
   ]
  },
  {
   "cell_type": "code",
   "execution_count": 204,
   "metadata": {},
   "outputs": [],
   "source": [
    "data['Description']=data['Description'].apply(lambda x:lemmatizer(x))"
   ]
  },
  {
   "cell_type": "code",
   "execution_count": 228,
   "metadata": {},
   "outputs": [
    {
     "data": {
      "text/html": [
       "<div>\n",
       "<style scoped>\n",
       "    .dataframe tbody tr th:only-of-type {\n",
       "        vertical-align: middle;\n",
       "    }\n",
       "\n",
       "    .dataframe tbody tr th {\n",
       "        vertical-align: top;\n",
       "    }\n",
       "\n",
       "    .dataframe thead th {\n",
       "        text-align: right;\n",
       "    }\n",
       "</style>\n",
       "<table border=\"1\" class=\"dataframe\">\n",
       "  <thead>\n",
       "    <tr style=\"text-align: right;\">\n",
       "      <th></th>\n",
       "      <th>Description</th>\n",
       "      <th>Accident_Level</th>\n",
       "    </tr>\n",
       "  </thead>\n",
       "  <tbody>\n",
       "    <tr>\n",
       "      <th>0</th>\n",
       "      <td>Pressed While removing the drill rod of the Ju...</td>\n",
       "      <td>I</td>\n",
       "    </tr>\n",
       "    <tr>\n",
       "      <th>1</th>\n",
       "      <td>Pressurized Systems During the activation of a...</td>\n",
       "      <td>I</td>\n",
       "    </tr>\n",
       "    <tr>\n",
       "      <th>2</th>\n",
       "      <td>Manual Tools In the sub-station MILPO located ...</td>\n",
       "      <td>I</td>\n",
       "    </tr>\n",
       "    <tr>\n",
       "      <th>3</th>\n",
       "      <td>Others Being 9:45 am. approximately in the Nv....</td>\n",
       "      <td>I</td>\n",
       "    </tr>\n",
       "    <tr>\n",
       "      <th>4</th>\n",
       "      <td>Others Approximately at 11:45 a.m. in circumst...</td>\n",
       "      <td>IV</td>\n",
       "    </tr>\n",
       "  </tbody>\n",
       "</table>\n",
       "</div>"
      ],
      "text/plain": [
       "                                         Description Accident_Level\n",
       "0  Pressed While removing the drill rod of the Ju...              I\n",
       "1  Pressurized Systems During the activation of a...              I\n",
       "2  Manual Tools In the sub-station MILPO located ...              I\n",
       "3  Others Being 9:45 am. approximately in the Nv....              I\n",
       "4  Others Approximately at 11:45 a.m. in circumst...             IV"
      ]
     },
     "execution_count": 228,
     "metadata": {},
     "output_type": "execute_result"
    }
   ],
   "source": [
    "data.head()"
   ]
  },
  {
   "cell_type": "markdown",
   "metadata": {},
   "source": [
    "# Vectorization:"
   ]
  },
  {
   "cell_type": "code",
   "execution_count": 206,
   "metadata": {},
   "outputs": [],
   "source": [
    "from sklearn.feature_extraction.text import CountVectorizer"
   ]
  },
  {
   "cell_type": "code",
   "execution_count": 209,
   "metadata": {},
   "outputs": [],
   "source": [
    "vectorizer = CountVectorizer(stop_words='english')"
   ]
  },
  {
   "cell_type": "code",
   "execution_count": 229,
   "metadata": {},
   "outputs": [
    {
     "data": {
      "text/plain": [
       "CountVectorizer(stop_words='english')"
      ]
     },
     "execution_count": 229,
     "metadata": {},
     "output_type": "execute_result"
    }
   ],
   "source": [
    "vectorizer.fit(data['Description'])"
   ]
  },
  {
   "cell_type": "code",
   "execution_count": 230,
   "metadata": {},
   "outputs": [
    {
     "name": "stdout",
     "output_type": "stream",
     "text": [
      "Vocabulary:  {'pressed': 2233, 'removing': 2390, 'drill': 1042, 'rod': 2467, 'jumbo': 1640, '08': 21, 'maintenance': 1823, 'supervisor': 2838, 'proceeds': 2256, 'loosen': 1776, 'support': 2842, 'intermediate': 1592, 'centralizer': 668, 'facilitate': 1203, 'removal': 2386, 'seeing': 2559, 'mechanic': 1879, 'supports': 2845, 'end': 1111, 'equipment': 1139, 'pull': 2289, 'hands': 1422, 'bar': 477, 'accelerate': 292, 'moment': 1923, 'slides': 2649, 'point': 2188, 'tightens': 2937, 'fingers': 1258, 'drilling': 1044, 'beam': 490, 'pressurized': 2237, 'systems': 2867, 'activation': 318, 'sodium': 2672, 'sulphide': 2827, 'pump': 2297, 'piping': 2163, 'uncoupled': 3044, 'sulfide': 2823, 'solution': 2680, 'designed': 948, 'area': 415, 'reach': 2338, 'maid': 1820, 'immediately': 1518, 'use': 3070, 'emergency': 1101, 'shower': 2613, 'directed': 984, 'ambulatory': 374, 'doctor': 1025, 'later': 1683, 'hospital': 1489, 'note': 1980, '48': 191, 'grams': 1391, 'liter': 1746, 'manual': 1849, 'tools': 2963, 'sub': 2807, 'station': 2743, 'milpo': 1902, 'located': 1760, 'level': 1717, '170': 66, 'collaborator': 754, 'doing': 1027, 'excavation': 1160, 'work': 3200, 'pick': 2142, 'hand': 1418, 'tool': 2962, 'hitting': 1469, 'rock': 2464, 'flat': 1277, 'beak': 489, 'bounces': 561, 'steel': 2746, 'tip': 2943, 'safety': 2507, 'shoe': 2603, 'metatarsal': 1894, 'left': 1707, 'foot': 1292, 'causing': 659, 'injury': 1569, '45': 189, 'approximately': 412, 'nv': 1994, '1880': 80, 'cx': 893, '695': 230, 'ob7': 2001, 'personnel': 2136, 'begins': 499, 'task': 2887, 'unlocking': 3061, 'soquet': 2682, 'bolts': 547, 'bhb': 508, 'machine': 1813, 'penultimate': 2121, 'bolt': 543, 'identified': 1506, 'hexagonal': 1457, 'head': 1435, 'worn': 3208, 'proceeding': 2255, 'mr': 1944, 'cristóbal': 866, 'auxiliary': 458, 'assistant': 431, 'climb': 731, 'platform': 2181, 'exert': 1169, 'pressure': 2236, 'dado': 907, 'key': 1650, 'prevent': 2238, 'coming': 768, 'moments': 1924, 'collaborators': 755, 'rotate': 2484, 'lever': 1718, 'anti': 396, 'clockwise': 735, 'direction': 986, 'leaving': 1704, 'palm': 2080, '11': 38, 'circumstances': 716, 'mechanics': 1881, 'anthony': 395, 'group': 1406, 'leader': 1694, 'eduardo': 1072, 'eric': 1141, 'fernández': 1240, 'injured': 1565, 'company': 774, 'impromec': 1529, 'performed': 2128, 'pulley': 2291, 'motor': 1935, '3015': 127, 'zaf': 3229, 'marcy': 1858, '27': 111, 'cm': 746, 'length': 1712, '33': 136, 'weight': 3161, '70': 235, 'kg': 1652, 'locked': 1763, 'proceed': 2253, 'heating': 1444, 'comes': 766, 'falls': 1213, 'distance': 1011, '06': 18, 'meters': 1896, 'high': 1460, 'hits': 1468, 'instep': 1585, 'right': 2451, 'worker': 3202, 'described': 946, 'unloading': 3059, 'operation': 2037, 'ustulado': 3075, 'bag': 466, 'need': 1963, 'unclog': 3043, 'discharge': 992, 'mouth': 1939, 'silo': 2623, 'truck': 3019, 'performing': 2130, 'procedure': 2251, 'maneuver': 1835, 'unhooking': 3051, 'hose': 1488, 'total': 2968, 'depressurisation': 939, 'projecting': 2269, 'powder': 2219, 'caused': 657, 'irritation': 1607, 'eyes': 1194, 'fall': 1210, 'prevention': 2240, 'reports': 2397, 'street': 2782, '09': 23, 'holding': 1477, 'volumetric': 3117, 'balloon': 471, 'slipped': 2656, 'placing': 2174, 'ground': 1405, 'ended': 1112, 'breaking': 578, 'small': 2665, 'wound': 3209, '04': 12, '50': 195, 'technician': 2896, 'josé': 1636, 'tecnomin': 2901, 'verified': 3091, 'transmission': 2991, 'belts': 503, 'hm': 1470, '100': 27, 'acid': 311, 'plant': 2177, 'proceeded': 2254, 'turn': 3029, 'manually': 1850, 'unexpectedly': 3050, 'instant': 1583, 'electrician': 1086, 'miguel': 1899, 'eka': 1080, 'mining': 1908, 'grabs': 1390, 'verify': 3093, 'tension': 2908, 'finger': 1257, 'traps': 2999, 'employee': 1103, 'sitting': 2633, 'resting': 2425, '326': 135, 'raise': 2325, 'bore': 555, 'suffered': 2817, 'sudden': 2815, 'illness': 1515, 'falling': 1212, 'suffering': 2818, 'excoriation': 1167, 'face': 1200, 'chemical': 689, 'substances': 2812, 'forklift': 1300, 'operator': 2040, 'went': 3167, 'manipulate': 1841, 'big': 509, 'bioxide': 512, 'section': 2552, 'just': 1644, 'ladder': 1672, 'leads': 1695, 'displacement': 1006, 'splashed': 2704, 'spent': 2696, 'height': 1447, 'forehead': 1297, 'fissure': 1266, 'pipe': 2159, '069': 19, 'subsequently': 2811, 'spilling': 2699, 'eye': 1188, 'nearby': 1960, 'eyewash': 1195, 'cleaning': 727, 'medical': 1883, 'center': 666, 'installing': 1582, 'segment': 2562, 'polyurethane': 2199, 'protective': 2280, 'lyner': 1807, '60x4x5cm': 223, 'weighing': 3159, 'ore': 2046, 'winch': 3184, 'rotated': 2485, 'compress': 783, 'inside': 1574, 'channel': 681, 'housing': 1494, 'rubbing': 2496, 'hip': 1464, 'generating': 1359, 'preparing': 2226, 'rice': 2447, 'lunch': 1802, 'day': 913, 'moving': 1943, 'pot': 2214, '60': 218, '35': 145, 'including': 1542, 'contents': 820, 'evacuate': 1149, 'residual': 2411, 'water': 3146, 'cooking': 833, 'positioning': 2208, 'jaba': 1615, 'tilts': 2939, 'backwards': 465, '200': 90, 'ml': 1918, 'hot': 1490, 'cook': 831, 'leg': 1708, 'event': 1156, 'applies': 405, 'aid': 351, 'pouring': 2217, 'cold': 753, 'post': 2213, 'evaluation': 1154, 'liquid': 1743, 'metal': 1892, 'working': 3204, 'ustulación': 3074, 'realized': 2347, 'cyclone': 895, 'duct': 1058, 'obstructed': 2008, 'opened': 2029, 'door': 1028, 'try': 3021, 'material': 1872, 'detached': 953, 'projected': 2268, 'burn': 601, 'heel': 1446, 'electrical': 1085, 'installation': 1580, 'tried': 3016, 'energize': 1116, 'split': 2707, 'set': 2573, 'intersection': 1594, '544': 205, '3300': 137, 'remove': 2387, 'lock': 1762, 'opening': 2030, 'electric': 1084, 'board': 535, '440v': 187, '400a': 168, 'lifting': 1726, 'thermomagnetic': 2915, 'makes': 1825, 'phase': 2138, 'contact': 812, 'panel': 2081, 'shell': 2592, 'producing': 2260, 'flash': 1276, 'reaches': 2340, 'confined': 798, 'space': 2686, 'accumulation': 309, 'waelz': 3121, 'conveyor': 829, 'trailer': 2981, 'filter': 1248, '08fi0502': 22, 'shutter': 2615, 'using': 3073, 'air': 352, 'lance': 1678, 'surprised': 2849, 'product': 2261, 'passing': 2103, 'neck': 1962, 'collar': 756, 'aramid': 413, 'jacket': 1617, 'shoulder': 2611, 'thermal': 2914, 'shock': 2601, 'splash': 2703, 'zinc': 3232, 'despite': 952, 'indicated': 1548, 'ppe': 2221, 'hit': 1466, 'spatters': 2690, 'passed': 2101, 'facila': 1202, 'hood': 1481, 'region': 2374, 'rp': 2492, '050': 16, '1620': 63, 'workers': 3203, 'diamond': 973, 'assistants': 432, 'jhonatan': 1626, 'nilton': 1971, 'increase': 1543, 'hq': 1495, 'perforation': 2126, 'scaffolding': 2525, 'lifts': 1727, 'tube': 3023, 'frame': 1314, 'position': 2206, 'upper': 3067, 'striking': 2790, 'lateral': 1684, 'overheating': 2062, 'bars': 481, 'row': 2490, 'cell': 664, 'spark': 2689, 'produced': 2258, 'manages': 1831, 'chief': 696, 'guard': 1410, 'corridor': 850, 'degree': 933, 'wheel': 3170, 'cathode': 651, 'crane': 859, 'g2133': 1336, 'changed': 679, '75': 240, 'bearing': 491, 'heated': 1443, 'hammer': 1417, 'chisel': 702, 'track': 2978, 'detachment': 956, 'piece': 2147, 'occurred': 2012, 'impacting': 1521, 'thigh': 2918, 'cut': 889, 'ambulance': 373, 'called': 620, 'transferred': 2987, 'clinic': 734, 'manuel': 1851, 'making': 1826, 'disconnection': 996, 'power': 2220, 'cables': 614, 'gate': 1348, 'manco': 1833, 'streets': 2783, 'cajamarquilla': 617, 'order': 2044, 'rope': 2481, 'tied': 2934, 'body': 541, 'yields': 3225, 'pulling': 2293, 'warning': 3137, 'helmet': 1450, 'standing': 2735, '14': 54, '16': 61, 'samuel': 2514, 'open': 2028, 'container': 815, 'subsequent': 2810, 'loading': 1755, 'silver': 2625, 'concentrate': 786, 'tries': 3017, 'second': 2549, 'opens': 2032, 'impacts': 1522, 'handle': 1419, 'lens': 1713, 'generates': 1358, 'cheekbone': 688, 'chamber': 677, 'removed': 2388, '71r': 238, 'approx': 410, '500': 196, 'tm': 2953, 'stroke': 2794, 'assisted': 433, 'jibs': 1629, 'horizontally': 1485, 'jib': 1628, 'enforce': 1119, 'piston': 2166, 'aligning': 364, 'bracket': 569, 'tower': 2972, '32': 133, 'releasing': 2381, 'applied': 404, 'tirford': 2949, 'tn': 2954, 'pushing': 2304, 'release': 2378, 'returns': 2440, 'mechanical': 1880, 'effect': 1074, 'overcoming': 2057, 'resistance': 2415, 'lineman': 1738, 'reshaping': 2408, 'beating': 492, 'frontal': 1323, 'loosening': 1778, 'a30': 281, '29': 116, 'steering': 2748, 'cylinder': 897, 'cable': 613, 'socket': 2669, 'force': 1295, 'exerted': 1170, 'favor': 1222, 'suddenly': 2816, 'retired': 2432, 'structure': 2797, '2142': 99, 'deslaminadora': 950, 'sheet': 2590, 'stuck': 2799, 'enter': 1126, 'slide': 2648, 'stacking': 2726, 'table': 2870, 'requires': 2403, 'mollares': 1922, 'helps': 1454, 'hold': 1475, 'place': 2170, 'entry': 1132, 'chute': 709, 'blade': 519, 'tilted': 2938, 'brushed': 594, 'willing': 3182, 'displace': 1005, 'adhered': 327, 'aluminum': 372, 'released': 2379, 'bending': 506, 'grazing': 1398, 'cuts': 890, 'knuckles': 1662, 'gloves': 1379, 'leather': 1701, 'unit': 3055, 'enabled': 1109, 'winche': 3185, 'control': 826, 'room': 2480, 'gets': 1368, 'short': 2605, 'walk': 3124, 'slips': 2659, 'sits': 2632, 'floor': 1281, 'knee': 1657, 'taking': 2878, 'importance': 1523, 'rest': 2421, 'finished': 1260, 'goes': 1381, 'communicates': 771, 'fact': 1205, 'reason': 2351, 'derived': 943, 'natclar': 1958, 'attention': 451, 'break': 576, 'ramp': 2329, '1055': 31, 'access': 293, 'ventilation': 3089, 'chimney': 697, 'master': 1869, 'loader': 1754, 'identifies': 1507, 'rocks': 2466, 'mesh': 1889, 'unload': 3057, 'decides': 925, 'remains': 2384, 'line': 1737, 'time': 2940, 'fragment': 1310, '5x4x3cm': 216, '180': 73, 'gr': 1387, 'cocada': 749, 'carried': 638, '2940': 120, 'stop': 2768, '896': 261, 'placed': 2171, 'basket': 484, 'soil': 2674, 'half': 1416, 'scissor': 2532, 'griff': 1401, 'wrench': 3211, 'unscrew': 3062, 'probe': 2248, 'came': 621, 'pressing': 2235, 'semi': 2563, 'kneeling': 1658, 'lid': 1722, '15': 58, 'distributor': 1017, 'box': 564, 'secondary': 2550, 'presence': 2228, 'debris': 920, 'spilled': 2698, 'grating': 1394, 'gave': 1350, 'extra': 1184, 'effort': 1076, 'muscle': 1949, 'contracture': 825, '1095': 32, 'a2': 280, 'times': 2942, 'engineer': 1122, 'trainee': 2982, 'planamieto': 2175, 'entered': 1127, '184': 76, 'notebook': 1981, 'pen': 2118, 'inspecting': 1576, 'roof': 2479, 'lost': 1783, 'balance': 468, 'stepping': 2754, 'accident': 297, 'wore': 3199, 'did': 975, 'difficult': 978, 'notes': 1983, 'yaranga': 3222, 'barretilla': 480, '996': 277, 'ampoloader': 378, 'juan': 1637, 'embedded': 1099, 'boot': 553, 'reacting': 2342, 'limb': 1734, 'managing': 1832, '40': 166, 'shotcrete': 2608, 'launched': 1687, '1680': 64, 'bp': 566, '255': 106, 'ob2b': 1998, 'finishing': 1261, 'launch': 1686, 'mixkret': 1916, '113': 42, 'alpha': 371, 'albertico': 357, 'asks': 425, 'jhony': 1627, '116': 43, 'finding': 1253, 'cockpit': 750, 'launcher': 1688, 'team': 2891, 'danon': 911, 'come': 764, 'started': 2738, 'noticed': 1985, 'imprisoned': 1525, 'rear': 2350, 'rim': 2452, 'hastial': 1428, 'la': 1665, 'labor': 1668, 'clearing': 728, 'tapped': 2884, 'thumb': 2930, 'flange': 1274, 'little': 1749, 'trauma': 3000, 'replacing': 2393, 'telescopic': 2902, 'expansion': 1174, 'joint': 1633, 'hdpe': 1434, 'storm': 2776, 'drainage': 1037, 'pumping': 2298, 'involuntarily': 1601, 'moved': 1940, 'positioned': 2207, 'holder': 1476, 'chemo': 690, 'withdrawal': 3192, 'kelly': 1647, 'conductive': 795, '10': 26, 'diameter': 972, 'low': 1785, 'tie': 2933, 'lose': 1780, '2nd': 124, 'pulleys': 2292, 'wearing': 3154, 'rig': 2449, 'blocked': 525, 'starting': 2740, 'activity': 320, 'coil': 752, 'warehouse': 3134, 'help': 1452, 'notice': 1984, 'beehive': 495, 'movement': 1941, 'bees': 496, 'excited': 1166, 'realizing': 2349, 'turned': 3030, 'people': 2122, 'stung': 2805, 'pre': 2222, 'inspection': 1577, 'check': 684, 'list': 1744, 'finds': 1254, 'seat': 2547, 'plastic': 2178, 'bottle': 559, 'filled': 1246, 'apparently': 401, 'mineral': 1906, 'label': 1666, 'labeling': 1667, 'sip': 2629, 'expelling': 1176, 'noticing': 1987, 'wash': 3140, 'esengrasante': 1144, 'machinery': 1814, 'toxicity': 2974, 'flyght': 1284, 'rotor': 2488, 'oil': 2019, 'lubrication': 1794, 'cover': 856, 'superficially': 2833, '22': 100, 'leakage': 1697, 'sulfur': 2824, 'dioxide': 982, 'so2': 2668, '20': 89, '30': 126, 'seal': 2544, 'blowing': 530, 'overpressure': 2064, '13': 51, 'cormei': 843, 'companies': 773, 'eissa': 1078, 'cosapi': 852, 'near': 1959, 'impacted': 1520, 'evacuated': 1150, 'care': 632, 'returned': 2438, 'usual': 3078, 'cutting': 892, 'meshes': 1890, 'protruding': 2283, 'gables': 1341, '40mt': 175, 'portable': 2203, 'held': 1448, 'base': 482, 'loses': 1781, 'hanging': 1423, '80mt': 254, 'demag': 935, 'iv': 1613, 'transporting': 2994, 'hydraulic': 1501, 'official': 2017, 'unbalanced': 3041, 'press': 2232, 'pillar': 2153, 'oven': 2055, 'specified': 2695, 'figure': 1245, 'blocking': 526, 'isolation': 1611, 'energies': 1115, 'start': 2737, 'neutral': 1968, 'leaching': 1693, 'process': 2257, 'valve': 3081, 'tank': 2881, 'airlift': 353, 'circumstance': 715, 'arm': 417, 'carrying': 640, 'cement': 665, '42': 180, 'lamp': 1677, 'suspended': 2853, 'slid': 2647, 'edge': 1071, 'baton': 486, 'cleaned': 726, 'spatula': 2691, 'spear': 2692, 'windows': 3187, 'boiler': 542, 'action': 315, 'window': 3186, 'epp': 1136, 'locomotive': 1767, 'operated': 2034, 'maperu': 1852, 'wagons': 3122, 'loaded': 1753, 'op4': 2026, 'waste': 3144, 'bin': 510, 'patrol': 2107, 'car': 629, 'change': 678, 'leaves': 1703, 'rail': 2321, 'advancing': 337, 'ahead': 349, 'motorist': 1936, 'traveled': 3003, 'remained': 2382, 'minor': 1909, 'bruises': 592, 'pit': 2168, '831': 258, '1910': 82, 'radial': 2315, 'negative': 1966, 'holes': 1480, 'simba': 2626, 'm4c': 1810, 'ith': 1612, 'bit': 513, 'coupling': 854, 'rotation': 2487, 'abruptly': 287, 'withdrawing': 3193, 'paid': 2076, 'partner': 2095, '55': 207, 'gallons': 1343, 'mobile': 1919, 'mounted': 1938, 'rails': 2323, 'derailed': 941, 'lift': 1724, 'instants': 1584, 'trapped': 2997, 'metallic': 1893, 'bruised': 591, 'index': 1545, 'fracture': 1308, 'type': 3039, 'loads': 1756, 'feeding': 1227, 'containing': 817, 'scraps': 2538, 'zn': 3234, 'sheets': 2591, 'hook': 1482, 'hoist': 1472, 'abrupt': 286, 'furnace': 1331, 'explosion': 1179, 'incimmet': 1539, 'explosives': 1180, 'anfoloader': 387, 'sustained': 2855, 'shotcreterepentinamente': 2610, 'superior': 2834, 'crown': 874, '2mx0': 123, '15mx0': 60, '10m': 35, 'helper': 1453, 'block': 524, 'wall': 3128, 'gable': 1340, '20mx1': 96, '10mx0': 36, '40m': 174, 'injures': 1566, 'cabin': 611, 'protection': 2279, 'rops': 2482, 'fops': 1294, 'used': 3071, 'helmets': 1451, 'boots': 554, 'polyontusions': 2197, 'scoria': 2535, 'injuries': 1567, 'fectuaban': 1224, 'throwing': 2926, 'wooden': 3197, 'blocks': 527, 'stabilizer': 2722, 'hiab': 1458, 'descending': 945, 'arriving': 423, 'step': 2751, 'jumps': 1642, '69cm': 231, 'treading': 3007, 'cause': 656, 'ankle': 390, 'cabinet': 612, 'disposal': 1008, 'rolled': 2472, 'ends': 1113, 'moves': 1942, 'driver': 1048, 'contained': 814, 'ear': 1066, '176': 69, 'going': 1383, '620': 226, '640': 227, '18': 72, 'x32': 3216, 'x3': 3215, 'stopped': 2771, 'activates': 317, 'cats': 654, 'climbs': 733, 'accommodated': 301, 'middle': 1898, 'ripper': 2455, 'pin': 2155, 'tractor': 2979, 'd6t': 905, 'n1': 1953, 'lowered': 1787, 'cloths': 744, 'purification': 2300, 'arranged': 419, 'cart': 642, 'grab': 1388, 'enters': 1129, 'mooring': 1930, 'blasting': 522, 'accessories': 295, 'retiring': 2433, 'hears': 1441, 'sound': 2684, 'fragments': 1313, 'rolling': 2474, 'directs': 988, 'gaze': 1351, 'vertical': 3095, 'form': 1301, '2x3x2cm': 125, '36gr': 155, 'passes': 2102, 'openings': 2031, 'sustaining': 2856, 'impact': 1519, 'sacrifice': 2503, 'adjustment': 332, 'tightening': 2936, 'cutter': 891, 'worked': 3201, 'neglected': 1967, 'slip': 2655, 'blunt': 533, 'forearm': 1296, 'messrs': 1891, 'william': 3181, 'cruz': 881, 'culminated': 884, 'shipment': 2597, '03': 10, 'plates': 2180, 'approximate': 411, '1800': 74, 'cross': 868, 'rigger': 2450, 'sling': 2654, 'places': 2173, 'feet': 1231, 'stretcher': 2787, 'supported': 2843, 'central': 667, 'broken': 589, 'result': 2428, 'placement': 2172, 'cloth': 742, 'reached': 2339, 'electrowelded': 1092, 'bolter': 545, 'crosses': 871, 'glove': 1378, 'checked': 685, 'shipping': 2599, 'splashes': 2705, 'hemiface': 1456, 'stepped': 2753, 'twist': 3035, 'transiting': 2990, 'cadmium': 615, 'factory': 1206, '1440': 56, 'copper': 841, 'sulphate': 2826, 'reaching': 2341, 'legs': 1710, 'burns': 603, 'positions': 2209, 'free': 1318, 'bends': 507, 'make': 1824, 'shear': 2588, 'inertia': 1553, 'refurbishment': 2373, 'pipes': 2161, 'secured': 2554, 'chain': 675, 'raised': 2326, 'radius': 2318, 'dump': 1059, 'laden': 1673, 'curve': 888, 'laquia': 1680, 'unevenness': 3049, 'road': 2461, 'meter': 1895, 'approaching': 409, 'overturning': 2065, 'belt': 502, 'glasses': 1377, 'squares': 2715, '25': 105, 'site': 2631, 'test': 2910, 'alcohotest': 359, 'pm': 2185, '1710': 67, '018': 4, '745': 239, 'anchorage': 383, 'anchoring': 385, 'diamantina': 971, 'xrd': 3220, 'bob': 538, 'cat': 647, 'cristian': 865, 'nut': 1992, 'stilson': 2756, 'simultaneously': 2627, 'jose': 1634, 'clamp': 721, 'lack': 1671, 'securing': 2555, 'fixing': 1271, 'having': 1432, 'mechanized': 1882, 'heavy': 1445, 'picks': 2145, 'supply': 2841, 'drum': 1055, 'heading': 1436, 'way': 3150, 'displaces': 1007, 'sliding': 2650, 'supervising': 2836, 'clamping': 722, 'pom': 2200, 'd071': 901, 'roy': 2491, 'canario': 624, 'returning': 2439, 'thickener': 2916, 'd1304': 902, 'nose': 1979, 'iron': 1605, 'bundle': 600, 'blown': 531, 'previous': 2242, 'pulls': 2294, 'detaching': 955, 'mt': 1945, '3cm': 162, '54': 204, 'lip': 1741, 'lesion': 1715, 'shipper': 2598, 'scheduled': 2531, 'fitting': 1268, 'hdp': 1433, 'resident': 2410, 'zone': 3235, 'supervise': 2835, 'anchored': 384, 'harness': 1427, 'manipulating': 1844, 'accessory': 296, 'flanges': 1275, 'pvc': 2307, 'fine': 1255, 'tailings': 2874, '700kg': 236, 'imprisons': 1528, 'lower': 1786, 'parking': 2089, 'dumper': 1060, 'workshop': 3207, 'washing': 3142, 'starts': 2741, 'reverse': 2442, 'gear': 1352, 'cab': 610, 'fully': 1328, 'brakes': 571, 'closes': 740, 'untimely': 3066, 'safe': 2506, 'abratech': 285, 'putty': 2306, 'conditioning': 793, 'deep': 928, 'covered': 857, 'platforms': 2182, 'gratings': 1395, 'employees': 1104, 'hyt': 1504, 'maneuvers': 1836, 'transfer': 2986, 'tick': 2932, 'hooked': 1483, 'dragging': 1035, 'grate': 1393, 'trying': 3022, 'grid': 1400, '92': 270, 'diagonal': 969, 'rubs': 2497, 'crouching': 873, 'bomb': 548, 'marked': 1863, 'tape': 2883, 'lookout': 1774, 'accessing': 294, 'santa': 2518, 'novo': 1988, 'chop': 705, 'general': 1355, 'manetometer': 1834, 'steep': 2747, 'slope': 2660, 'gravel': 1396, 'certain': 671, 'machete': 1812, 'poll': 2193, 'sleeve': 2646, 'hole': 1479, '600': 219, 'da': 906, 'silva': 2624, 'locking': 1765, 'rods': 2468, 'jack': 1616, 'holds': 1478, 'entire': 1130, 'effective': 1075, 'wire': 3190, 'driller': 1043, 'pedro': 2116, 'brake': 570, 'inefficacy': 1552, 'chestnut': 692, 'monkey': 1927, 'prepared': 2224, 'faucet': 1221, 'firmly': 1263, 'composition': 782, 'shifted': 2595, 'stems': 2750, 'downward': 1033, 'strike': 2789, '4th': 193, '5th': 215, 'quirodactyl': 2313, 'taken': 2876, 'sutured': 2858, 'stitches': 2762, 'days': 915, 'activities': 319, 'trip': 3018, 'vehicle': 3086, 'rhainer': 2444, 'object': 2002, 'identify': 1508, 'pierce': 2149, 'sole': 2677, 'possibly': 2212, 'stump': 2803, 'wood': 3196, 'pasture': 2105, 'grazed': 1397, 'recently': 2356, 'residence': 2409, '970': 273, 'manipulated': 1842, 'plate': 2179, '60cm': 221, 'x40cm': 3217, '5cm': 211, 'gutter': 1414, 'able': 284, 'scaler': 2526, '142': 55, 'restricts': 2426, 'ring': 2453, 'suction': 2814, '420': 181, 'bo': 534, '01': 3, 'loose': 1775, 'tubing': 3024, 'distal': 1010, 'phalanx': 2137, 'photos': 2140, 'disassembly': 991, 'bodies': 540, 'pulpomatic': 2296, 'd2251': 904, 'dismantling': 1003, 'scaffold': 2524, 'sump': 2828, 'rivets': 2459, 'anchor': 382, 'horizontals': 1486, 'handling': 1420, 'chirodactilo': 700, 'contusion': 828, 'van': 3082, 'cluster': 745, 'sleepers': 2645, 'boards': 537, 'nail': 1954, 'protruded': 2282, 'long': 1769, 'submerged': 2809, 'puddle': 2288, '1170': 44, 'chair': 676, 'stumbles': 2802, 'grille': 1402, '17m': 71, 'chin': 698, 'strap': 2781, 'rb': 2337, 'lifted': 1725, 'accidently': 299, 'tons': 2960, 'maximum': 1874, 'cap': 628, 'lay': 1692, 'pig': 2152, 'tail': 2873, 'breaks': 579, 'transversely': 2996, 'person': 2134, 'incident': 1537, 'away': 462, 'east': 1070, 'stope': 2769, '175': 68, 'obstruct': 2007, 'decide': 923, 'direct': 983, 'main': 1821, 'surface': 2848, 'square': 2714, 'carry': 639, 'reinstallation': 2377, 'sectioned': 2553, 'steps': 2755, 'perform': 2127, 'hydrojet': 1502, 'obstruction': 2010, 'residue': 2412, 'actuating': 321, 'pedal': 2114, 'bypass': 607, '1970': 84, 'incimet': 1538, 'raul': 2334, 'bolting': 546, 'rolando': 2470, 'helical': 1449, 'pink': 2156, 'overhanging': 2060, 'teacher': 2890, 'tells': 2905, 'rises': 2457, 'luna': 1801, 'cruiser': 877, '771': 243, 'tying': 3038, 'pentacord': 2120, 'fanel': 1216, 'resulting': 2430, 'fell': 1234, 'bruise': 590, 'toecap': 2956, 'store': 2775, 'attendants': 448, 'compartment': 775, 'rubber': 2495, 'classification': 723, 'x1': 3214, 'x0': 3213, '02': 6, 'litter': 1748, 'slightly': 2652, 'attempting': 446, 'ingot': 1558, 'zinco': 3233, 'rotary': 2483, 'l1': 1664, 'angle': 388, 'roll': 2471, 'electro': 1088, 'welded': 3163, '95': 272, 'hopper': 1484, 'operators': 2041, 'bring': 586, 'imprisonment': 1527, 'lhd': 1719, '9970': 278, 'gallery': 1342, 'superficial': 2832, 'welding': 3165, 'welder': 3164, 'clean': 725, 'stool': 2766, 'impregnated': 1524, 'thinner': 2919, 'flammable': 1273, 'screwdriver': 2541, 'oxides': 2068, 'produces': 2259, 'internal': 1593, 'slight': 2651, 'uses': 3072, '12': 46, 'ob5': 1999, 'cesar': 673, 'services': 2571, 'picking': 2144, 'acl': 312, '804': 251, 'raising': 2327, 'indexed': 1546, 'turntable': 3033, '1604': 62, 'projection': 2270, 'woman': 3195, 'sink': 2628, 'collection': 761, 'pierced': 2150, 'glass': 1376, 'discharging': 993, 'hydroxide': 1503, 'disconnecting': 995, 'demineralization': 936, 'receiving': 2355, 'sensor': 2565, '1st': 87, 'jesus': 1622, 'concrete': 790, 'shooting': 2604, '001': 1, 'ob1': 1997, 'applying': 406, 'm3': 1809, 'realizes': 2348, 'additive': 325, 'mix': 1913, 'directing': 985, 'passage': 2100, '53': 202, 'inch': 1532, 'thickness': 2917, 'verifying': 3094, 'return': 2437, 'load': 1752, 'entrance': 1131, 'debarking': 919, 'align': 363, 'presenting': 2231, 'initial': 1560, 'ponchos': 2201, 'originating': 2047, 'remaining': 2383, 'wicks': 3175, 'tips': 2945, 'prongs': 2274, 'curling': 886, 'embed': 1098, 'wick': 3174, 'poles': 2192, 'ddh': 916, 'explomin': 1178, 'socorro': 2670, '334': 139, 'fifth': 1244, 'nq': 1990, '24': 103, 'operates': 2035, 'rotates': 2486, 'wilder': 3180, 'indicates': 1549, 'gilton': 1371, 'introduce': 1596, 'inner': 1571, 'introduces': 1598, 'chuck': 707, 'dropping': 1052, 'imprisoning': 1526, 'climbing': 732, 'operating': 2036, 'ustulation': 3077, 'sulfuric': 2825, 'geological': 1360, 'mapping': 1853, 'necessary': 1961, 'analysis': 380, 'clerk': 729, 'pointed': 2189, '781': 244, 'kevin': 1649, 'subjection': 2808, 'achieving': 310, '1940': 83, '791': 245, 'francisco': 1315, 'scoop': 2533, 'observes': 2005, 'polyethylene': 2195, 'thrown': 2927, 'lectro': 1705, 'eyebrow': 1190, 'conducting': 794, 'evaluate': 1152, 'house': 1493, 'steam': 2745, 'spills': 2700, 'recovery': 2360, 'struck': 2796, 'pumps': 2299, 'sanding': 2516, 'electrolysis': 1089, 'disk': 1001, 'spun': 2713, 'die': 976, 'feeder': 1226, 'pead': 2112, 'geomembrane': 1365, 'blanket': 520, 'weld': 3162, 'seam': 2546, 'extruder': 1187, 'stylet': 2806, '3620': 153, 'ex': 1157, '450': 190, 'tunnel': 3028, 'quinoa': 2311, 'strut': 2798, '3m': 164, 'treads': 3008, 'losing': 1782, 'lying': 1806, 'laterally': 1685, 'sunday': 2829, 'saying': 2523, 'ago': 348, 'heat': 1442, 'exchangers': 1165, 'defined': 932, 'risk': 2458, 'burning': 602, 'removes': 2389, 'skin': 2639, 'occurs': 2014, 'sulfates': 2822, 'transport': 2992, 'mceisa': 1875, 'ajg': 356, '751': 241, 'missing': 1912, '50m': 200, '3900': 159, 'gearbox': 1353, 'does': 1026, 'respond': 2418, 'stops': 2773, 'inspect': 1575, 'traveling': 3004, 'continue': 821, 'completing': 779, 'backhoe': 464, 'bucket': 595, 'hours': 1492, 'moon': 1929, 'feels': 1230, 'discomfort': 994, 'service': 2570, 'facial': 1201, 'mask': 1866, 'lima': 1733, 'visited': 3109, 'facilities': 1204, '2900': 117, 'waiting': 3123, 'cage': 616, '4070': 171, 'drops': 1053, 'ceiling': 663, 'filtration': 1250, 'drop': 1050, 'according': 304, 'lenses': 1714, 'happened': 1424, 'visit': 3108, 'interior': 1590, 'el': 1081, 'porvenir': 2205, '4240': 182, 'assembling': 427, '120': 47, 'accommodate': 300, 'accretion': 305, 'carbon': 630, 'marking': 1864, 'scalp': 2528, 'sheepskin': 2589, 'lx': 1805, '205b': 94, 'silicate': 2622, 'pulp': 2295, 'juveni': 1645, 'tabolas': 2872, 'suffers': 2819, 'feeling': 1229, 'dizziness': 1024, 'faintness': 1209, 'concussion': 792, 'transit': 2989, 'fuel': 1326, 'tanker': 2882, '3530': 147, '2925': 118, 'north': 1978, '3140': 131, 'tire': 2946, 'skids': 2637, 'performs': 2131, 'defensive': 931, 'pilot': 2154, 'field': 1243, 'wellfield': 3166, 'stones': 2764, 'intention': 1589, 'balancing': 469, 'tree': 3011, 'paralyzed': 2086, 'referred': 2368, 'paracatu': 2083, 'underwent': 3047, 'orlando': 2048, 'boltec': 544, 'macedonio': 1811, 'link': 1740, 'shorten': 2606, 'injection': 1564, 'resin': 2414, 'saw': 2522, 'affecting': 341, 'tests': 2912, 'soft': 2673, 'starter': 2739, 'engine': 1121, 'igor': 1512, '19': 81, 'trench': 3013, '90m': 267, 'partially': 2091, 'discovered': 997, 'checking': 686, 'voltage': 3116, 'outlet': 2052, 'plug': 2184, 'sure': 2847, 'connection': 803, 'correct': 845, 'arc': 414, 'cord': 842, 'wrist': 3212, 'acted': 314, 'coordinated': 836, 'prospector': 2278, 'wila': 3178, 'prong': 2273, 'collect': 759, 'samples': 2512, 'auxiliar': 456, 'divert': 1020, 'diversion': 1019, 'marimbondo': 1860, 'giving': 1375, 'thugs': 2929, 'agitated': 347, 'sting': 2757, 'stings': 2759, 'allergy': 369, 'allergic': 368, 'reaction': 2343, 'washed': 3141, 'affected': 340, 'normal': 1976, 'reconnaissance': 2359, 'farm': 1219, 'lázaro': 1808, 'composed': 780, 'felipe': 1232, 'divino': 1023, 'morais': 1931, 'encountered': 1110, 'ciliary': 712, 'forest': 1299, 'needed': 1964, 'outcrop': 2051, 'divine': 1022, 'took': 2961, 'bite': 514, 'attacks': 444, 'continued': 822, 'normally': 1977, 'completed': 778, 'attacked': 443, 'snake': 2667, 'peeling': 2117, 'chirodactile': 699, 'tearing': 2894, 'becker': 493, 'ditch': 1018, '3570': 148, 'estimated': 1145, 'drain': 1036, 'dune': 1061, 'blow': 528, 'winery': 3189, 'chagua': 674, 'bodeguero': 539, 'wires': 3191, 'grinder': 1403, 'previously': 2243, 'inches': 1536, 'adapted': 322, 'crosscutter': 869, 'traumatic': 3001, 'amputation': 379, 'lt': 1789, 'lajes': 1675, 'target': 2886, 'junior': 1643, 'costa': 853, 'wounding': 3210, 'required': 2402, 'hauling': 1431, 'op2': 2025, 'bines': 511, 'convoy': 830, 'op1': 2024, 'riding': 2448, 'saddle': 2505, 'pole': 2191, 'weakly': 3152, 'pipeline': 2160, '65': 228, 'seatbelt': 2548, 'accompanied': 302, 'path': 2106, 'works': 3206, 'management': 1830, 'electrometallurgy': 1091, 'staircase': 2731, 'code': 751, 'ele': 1083, '81': 256, '040': 13, 'abb': 282, 'treated': 3009, 'cia': 711, 'wanted': 3132, 'pass': 2099, 'stacker': 2725, 'sardinel': 2520, 'pulled': 2290, 'turns': 3032, 'forward': 1305, 'laceration': 1670, 'iii': 1514, 'concentrator': 787, 'flotation': 1282, 'pb': 2111, 'leans': 1700, 'staff': 2727, 'eustaquio': 1147, 'gives': 1374, '1021': 29, 'strong': 2795, 'stage': 2728, 'luxo': 1804, 'fractures': 1309, 'leaning': 1699, 'tk': 2952, '2040': 93, 'taque': 2885, 'project': 2267, 'vazante': 3084, 'sediment': 2557, 'current': 887, 'south': 2685, 'mata': 1871, 'serra': 2567, 'garrote': 1346, 'members': 1888, 'wca': 3151, 'leandro': 1698, 'jehovânio': 1621, 'shallow': 2581, 'bee': 494, 'carton': 643, 'quickly': 2310, 'possible': 2211, 'avoid': 460, 'ran': 2331, 'looking': 1773, 'exit': 1173, 'attack': 442, 'breno': 581, 'consequently': 806, 'belly': 501, 'jehovah': 1620, 'brushcutters': 593, 'stone': 2763, 'collided': 762, 'faneles': 1217, 'detonating': 961, 'guide': 1411, 'slow': 2663, 'finish': 1259, 'bank': 473, '30cm': 128, '50cm': 199, '15cm': 59, '67': 229, 'close': 738, 'disintegrates': 1000, '12cmx10cmx3cm': 50, 'victim': 3099, 'construction': 808, 'stopper': 2772, 'mortar': 1932, 'improve': 1530, 'bricklayer': 583, 'complete': 777, '05m': 17, 'mason': 1868, 'sand': 2515, 'personal': 2135, 'reduced': 2363, 'geologo': 1363, 'elismar': 1096, 'points': 2190, 'following': 1290, 'gps': 1386, 'state': 2742, 'highway': 1461, 'aripuanã': 416, 'got': 1385, 'renato': 2391, 'distancing': 1013, 'seven': 2576, 'bites': 515, 'thorns': 2922, 'hurried': 1498, 'girdle': 1373, 'goggles': 1382, 'geologist': 1361, 'ademir': 326, 'mário': 1952, 'technical': 2895, 'paused': 2110, 'teams': 2893, 'know': 1660, 'getting': 1369, 'weed': 3157, 'radio': 2317, 'communication': 772, 'distanced': 1012, 'leggings': 1709, 'mario': 1862, 'blows': 532, 'manoel': 1848, 'marcos': 1857, 'stooped': 2767, 'deviate': 965, 'vegetation': 3085, 'received': 2354, 'whistling': 3173, 'followed': 1289, 'applicable': 403, 'paulo': 2109, 'filters': 1249, 'informed': 1555, 'autoclave': 454, 'leak': 1696, 'scruber': 2543, 'feed': 1225, 'officials': 2018, 'georli': 1366, 'initiated': 1561, 'procedures': 2252, 'closing': 741, 'tqs': 2977, 'soon': 2681, 'chicken': 693, '187': 79, 'parked': 2088, '2995': 121, 'acc': 291, 'problems': 2250, 'arrives': 422, 'verification': 3090, 'confirming': 800, 'problem': 2249, 'coordination': 838, 'diesel': 977, 'accidentally': 298, 'downwards': 1034, 'atricion': 438, 'pivot': 2169, 'observing': 2006, 'gauge': 1349, 'tipper': 2944, 'decided': 924, 'temporary': 2907, 'storage': 2774, 'materials': 1873, 'sought': 2683, 'cue': 883, 'camera': 622, 'burst': 605, 'involved': 1602, 'thunderous': 2931, 'exploded': 1177, '110': 39, 'psi': 2286, 'stacked': 2724, 'pneumatic': 2186, 'presented': 2230, 'energy': 1118, 'tires': 2947, 'night': 1970, 'shift': 2594, '2m': 122, '70m': 237, 'trucks': 3020, 'damage': 908, '2930': 119, 'siemag': 2619, 'piquero': 2165, 'civil': 719, 'looked': 1772, '1m': 86, '6m': 234, '7m': 246, 'push': 2301, 'incentration': 1531, 'hinge': 1463, 'pad': 2074, 'consequence': 805, 'sludge': 2664, 'pendulum': 2119, 'disengaged': 998, 'fourth': 1307, '8m': 264, 'bouncing': 562, 'scooptram': 2534, 'sit': 2630, 'takes': 2877, 'handrail': 1421, 'geho': 1354, 'reducer': 2364, 'accompanying': 303, 'shaft': 2578, 'mixed': 1914, 'attributing': 452, 'union': 3054, '3910': 160, 'filling': 1247, '80': 249, 'reference': 2367, 'attrition': 453, '00': 0, 'frank': 1316, 'bridge': 584, '3490': 144, '447': 188, 'prepares': 2225, 'sacrificial': 2504, 'exposed': 1181, 'shot': 2607, 'strained': 2780, 'casionándole': 644, 'adjutant': 333, 'crash': 860, 'f1t': 1196, '878': 260, 'city': 718, 'pasco': 2098, 'consultant': 809, '350': 146, 'lane': 1679, 'invaded': 1599, 'civilian': 720, 'sharply': 2587, 'melt': 1886, '37km': 158, 'inthinc': 1595, 'width': 3177, 'cones': 797, 'sides': 2618, 'respective': 2416, 'fernando': 1239, 'hardened': 1426, 'stake': 2733, '5m': 213, 'presses': 2234, 'execution': 1168, 'brjcldd0006': 587, 'servitecforaco': 2572, 'july': 1639, '2016': 91, 'josimar': 1635, 'fish': 1264, 'curl': 885, 'suture': 2857, 'paste': 2104, '90': 265, 'vacuum': 3080, 'technicians': 2897, 'entering': 1128, 'overflow': 2059, 'ask': 424, 'reduce': 2362, 'kept': 1648, 'walking': 3126, 'void': 3115, 'sf': 2577, 'bladder': 518, 'bags': 467, 'charging': 683, 'boom': 552, 'delivery': 934, 'surrounding': 2850, 'dropped': 1051, 'large': 1681, 'cone': 796, 'funnel': 1330, 'man': 1828, 'stood': 2765, 'external': 1183, 'cars': 641, 'informs': 1556, 'swing': 2864, 'mona': 1925, 'railway': 2324, 'op': 2023, 'pushes': 2303, 'rocker': 2465, 'sample': 2510, 'laboratory': 1669, 'coat': 748, 'nitric': 1973, 'absorbing': 289, '239': 102, 'threads': 2923, 'shank': 2582, 'percussion': 2125, 'attempts': 447, 'success': 2813, 'attempt': 445, 'corrugated': 851, 'generate': 1356, 'shaped': 2584, 'like': 1731, 'cane': 625, '21': 97, '07': 20, 'warrin': 3139, 'cracking': 858, 'inlet': 1570, 'g2143': 1338, 'laminator': 1676, 'draining': 1039, 'ammonia': 376, 'refrigerant': 2371, 'drained': 1038, 'traffic': 2980, 'eusébio': 1148, 'braking': 572, 'failed': 1207, '40km': 173, 'hour': 1491, 'torch': 2965, 'new': 1969, 'evaporator': 1155, 'treatment': 3010, 'fixings': 1272, 'rupture': 2500, 'vitaulic': 3113, 'connecting': 802, '8b': 263, '8a': 262, '3390': 141, 'present': 2229, 'share': 2586, 'equally': 1138, 'weighs': 3160, '400': 167, 'spoiler': 2708, 'directly': 987, 'squatting': 2717, 'means': 1876, 'initiating': 1563, '615rlc': 225, 'elevation': 1094, 'aerial': 339, 'watermelon': 3148, 'knife': 1659, 'mincing': 1905, 'juína': 1646, 'bitten': 516, 'blackjack': 517, 'manifestation': 1839, 'afternoon': 344, 'medicated': 1884, 'production': 2262, 'clogging': 737, 'compressed': 784, 'ejecting': 1079, 'detritus': 962, 'wear': 3153, 'warman': 3136, 'bb': 488, 'fixed': 1270, 'jaw': 1619, 'wedge': 3155, 'crusher': 879, '41br01': 179, 'hoisting': 1473, 'device': 966, 'overhead': 2061, 'stumbled': 2801, 'building': 597, 'twisting': 3037, 'cinnamon': 713, 'tenth': 2909, 'pistons': 2167, 'fines': 1256, '10cmx8cm': 34, 'x6': 3218, 'rolls': 2476, 'zero': 3231, 'assemble': 426, 'barel': 479, 'retracts': 2435, 'throw': 2925, 'catheter': 650, 'inclination': 1540, 'speart': 2693, 'lit': 1745, 'occurring': 2013, 'maintaining': 1822, '604': 220, 'overlap': 2063, 'coordinate': 835, 'non': 1975, 'bounce': 560, 'epps': 1137, '3450': 143, '13cmx6cmx2cm': 53, '54g': 206, 'particles': 2094, 'a1': 279, 'squat': 2716, 'introduced': 1597, '5cmx4cmx2cm': 212, '112gr': 41, 'cervical': 672, 'attached': 440, 'band': 472, 'uneven': 3048, 'distribution': 1016, 'upwards': 3069, 'servant': 2568, 'dishes': 999, 'bowl': 563, '3rd': 165, 'chiropactyl': 701, 'evacuation': 1151, 'inchancables': 1534, 'strip': 2791, 'notices': 1986, 'rake': 2328, 'topographic': 2964, 'survey': 2851, 'stp': 2778, '440': 186, 'west': 3168, 'walks': 3127, 'rpa': 2493, 'st': 2719, 'sccop': 2530, 'false': 1214, 'expedition': 1175, 'overalls': 2056, 'contaminated': 819, 'electrolyte': 1090, 'hoe': 1471, 'abdomen': 283, 'repulping': 2400, 'shovel': 2612, 'projects': 2271, 'soiling': 2675, 'obstructing': 2009, 'vision': 3107, 'mud': 1946, 'corresponding': 849, 'excess': 1162, 'fiberglass': 1242, 'marble': 1854, '4150': 178, 'unicon': 3052, 'shuttering': 2616, 'sedimentation': 2558, 'basin': 483, 'nailing': 1956, 'supplies': 2840, 'fix': 1269, 'vertically': 3096, 'dining': 981, 'habilitation': 1415, 'kitchen': 1656, 'specific': 2694, 'drawer': 1040, 'clogged': 736, 'young': 3227, 'lady': 1674, 'trellex': 3012, '36': 151, 'anode': 391, 'circuit': 714, 'nylon': 1995, 'seen': 2560, 'foliage': 1288, 'leucenas': 1716, 'venomous': 3088, 'animals': 389, 'participating': 2092, 'dds': 917, 'outside': 2054, 'locker': 1764, 'tc': 2889, '020': 7, 'mallet': 1827, 'eyelid': 1193, 'conchucos': 788, 'ancash': 381, 'patronal': 2108, 'feast': 1223, 'representing': 2399, 'horse': 1487, 'ceremony': 670, 'fruits': 1325, 'toys': 2975, 'attending': 450, 'public': 2287, 'noise': 1974, 'pyrotechnics': 2308, 'gifts': 1370, 'frightened': 1322, 'kicked': 1653, 'limbs': 1735, 'anterior': 394, 'chest': 691, 'caustic': 660, 'soda': 2671, 'sickle': 2617, 'vine': 3102, 'twice': 3034, 'liana': 1720, 'ruptured': 2501, 'branch': 573, 'september': 2566, '17': 65, 'preventive': 2241, 'g2142': 1337, 'assembly': 428, 'roller': 2473, 'final': 1251, 'pound': 2216, 'warps': 3138, 'splinter': 2706, 'proximal': 2285, 'review': 2443, 'monitoring': 1926, 'existence': 1172, 'borehole': 556, '5021': 197, 'brapdd': 575, '0183': 5, 'canvas': 627, 'swathed': 2861, 'local': 1757, 'blower': 529, 'lubricating': 1793, 'alfredo': 362, 'correcting': 846, 'lubricants': 1792, 'mini': 1907, 'adapter': 323, '80m': 253, 'utensil': 3079, 'skimmer': 2638, 'stir': 2760, 'cooker': 832, 'broke': 588, 'containers': 816, 'dust': 1062, 'tranquera': 2984, 'slipping': 2658, 'raspándose': 2333, 'thorax': 2920, '55h': 208, 'confipetrol': 799, 'industrial': 1551, 'reduction': 2365, 'd2055': 903, 'progress': 2264, 'lips': 1742, '05': 15, 'marco': 1856, 'isidro': 1609, 'torres': 2967, 'standardization': 2734, '983': 274, 'spike': 2697, 'nipple': 1972, '4115': 177, 'lime': 1736, 'reactive': 2344, 'flexing': 1280, 'upward': 3068, 'pain': 2077, 'spume': 2712, 'colleagues': 758, '111': 40, 'location': 1761, 'closed': 739, 'excessive': 1163, 'sprain': 2711, '3970': 161, 'freed': 1319, 'descended': 944, '5068': 198, 'bapdd00146': 476, 'polling': 2194, 'luciano': 1797, 'led': 1706, 'suitably': 2820, 'escape': 1143, 'easel': 1069, 'attended': 449, 'resulted': 2429, 'administrative': 334, 'offices': 2016, 'environment': 1133, 'size': 2635, 'pushed': 2302, 'creating': 862, 'continuing': 823, 'ribbon': 2446, 'atenuz': 436, 'ee': 1073, 'locks': 1766, 'excavator': 1161, 'lubricator': 1795, 'hat': 1429, 'bump': 598, 'protector': 2281, 'lubricant': 1791, '23': 101, 'hrs': 1496, 'eliseo': 1095, 'crushing': 880, 'snack': 2666, 'coordinates': 837, 'particle': 2093, '10x6x5cm': 37, 'respirator': 2417, 'stretched': 2786, 'superciliary': 2831, 'inchancanbles': 1535, 'reciprocating': 2358, 'arranging': 420, 'advance': 335, 'flexible': 1279, 'watered': 3147, 'fired': 1262, 'deteriorated': 960, '25cmx10cmx5cm': 107, 'rebound': 2352, 'positive': 2210, 'rescued': 2405, 'fisherman': 1265, 'developing': 964, 'whiplash': 3172, '0m': 24, 'hycron': 1500, 'loosened': 1777, 'drawing': 1041, 'jet': 1623, 'gts': 1409, 'blaster': 521, 'colleague': 757, 'spare': 2688, 'rollover': 2475, 'derails': 942, '7th': 247, 'reposition': 2398, 'stability': 2721, 'headlight': 1437, 'defective': 930, '181': 75, 'alimak': 365, '2440': 104, 'alimakero': 366, 'heads': 1438, 'untie': 3064, 'perceives': 2124, 'prevented': 2239, '0x0': 25, '80x0': 255, 'fragmented': 1311, 'racks': 2314, 'exchange': 1164, 'fabrics': 1199, 'inclined': 1541, 'reception': 2357, 'approaches': 408, 'c7': 609, '26': 108, 'keypad': 1651, 'manipulates': 1843, 'strips': 2793, 'eriks': 1142, 'tecl': 2898, 'stairs': 2732, 'observe': 2003, 'jhon': 1625, 'inchancable': 1533, 'finally': 1252, 'igniting': 1511, 'battery': 487, 'reflux': 2369, 'gas': 1347, 'wilmer': 3183, 'c150': 608, 'drying': 1057, 'manhole': 1838, 'railing': 2322, 'estriping': 1146, 'bend': 505, 'tranfer': 2983, 'exerts': 1171, 'transfe': 2985, 'césar': 900, 'receive': 2353, 'immediate': 1517, 'román': 2477, 'brace': 568, 'nro': 1991, 'said': 2508, 'approach': 407, 'corner': 844, 'pedestal': 2115, 'planning': 2176, 'povoado': 2218, 'vista': 3110, 'martinópole': 1865, 'ce': 662, 'fábio': 1335, 'vieira': 3101, 'auxiliaries': 457, 'diassis': 974, 'nascimento': 1957, 'crossing': 872, 'fence': 1236, 'granja': 1392, 'consultation': 810, 'diagnose': 967, 'prescribing': 2227, 'remedy': 2385, 'ice': 1505, 'packs': 2073, 'sailor': 2509, '3er': 163, 'element': 1093, 'denis': 938, 'imbalance': 1516, 'manipulation': 1845, 'propiciándose': 2277, '615': 224, 'rlc': 2460, 'emulsion': 1108, 'preparation': 2223, 'food': 1291, 'dimensions': 980, '52': 201, 'pinking': 2157, 'tabola': 2871, 'sledgehammer': 2644, 'stepladder': 2752, 'reinforce': 2376, 'forms': 1304, 'deepening': 929, 'walked': 3125, 'distant': 1014, '10cm': 33, 'flexes': 1278, 'chuteo': 710, 'op5': 2027, 'parks': 2090, 'flow': 1283, 'appears': 402, '1tm': 88, 'tyrfor': 3040, 'tightened': 2935, 'eyebolt': 1189, 'click': 730, 'tirfor': 2948, '5mx1': 214, '80kg': 252, 'timely': 2941, 'trapping': 2998, 'earth': 1067, 'screw': 2540, 'combination': 763, 'claudio': 724, 'readjusted': 2345, 'nuts': 1993, 'extension': 1182, 'greater': 1399, 'torque': 2966, 'wilber': 3179, 'containment': 818, 'formation': 1302, 'calf': 618, 'revegetation': 2441, 'slopes': 2661, 'ii': 1513, 'lifeline': 1723, 'doosan': 1029, 'repair': 2392, 'suspenders': 2854, 'causes': 658, 'embedding': 1100, 'december': 922, 'gun': 1413, 'bap': 475, 'demister': 937, 'cooling': 834, 'g2172': 1339, 'emerson': 1102, 'bumped': 599, 'carpenter': 636, 'diverting': 1021, 'bathroom': 485, 'calibrator': 619, 'chuquillanqui': 708, 'turning': 3031, 'soldering': 2676, 'insulation': 1587, 'unleashing': 3056, 'saturated': 2521, 'talus': 2879, 'crest': 863, '4318': 185, 'rugged': 2498, 'taut': 2888, 'leave': 1702, 'crumbles': 878, '6cmx2cmx1cm': 232, '26gr': 110, 'cheek': 687, 'isolated': 1610, 'geology': 1364, 'temporarily': 2906, '4cm': 192, 'wide': 3176, '100cm': 28, 'stretches': 2788, 'boss': 557, 'marcelo': 1855, 'withdrew': 3194, 'foam': 1285, 'ajax': 355, 'spoon': 2710, 'slag': 2642, 'residues': 2413, 'ustulador': 3076, 'performer': 2129, 'hidalgo': 1459, 'wanting': 3133, 'fans': 1218, 'stands': 2736, 'unstable': 3063, 'reel': 2366, 'driving': 1049, 'frontally': 1324, '98m': 275, 'ronald': 2478, 'lights': 1730, 'lighthouse': 1729, 'catching': 649, 'erasing': 1140, 'earthenware': 1068, 'alizado': 367, 'ironing': 1606, 'tour': 2971, 'command': 769, 'atriction': 439, 'volvo': 3118, 'oxicorte': 2066, 'tajo': 2875, 'stumble': 2800, 'pieces': 2148, 'designated': 947, '40357': 170, 'deslaminator': 951, 'lowers': 1788, 'failure': 1208, 'detecting': 958, 'manipulator': 1846, 'arrange': 418, 'tq': 2976, 'fuses': 1332, 'energized': 1117, 'install': 1579, 'months': 1928, 'sloping': 2662, 'interlaced': 1591, 'rapid': 2332, 'elbow': 1082, 'felt': 1235, 'bothering': 558, 'walrus': 3130, 'untied': 3065, 'settling': 2575, '943': 271, '3590': 149, 'setting': 2574, 'choco': 703, 'drills': 1045, 'crew': 864, 'melting': 1887, 'routine': 2489, 'slimming': 2653, 'kiln': 1655, 'began': 498, 'crucible': 875, 'tello': 2904, 'moinsac': 1921, 'vanishes': 3083, 'radiator': 2316, 'engaged': 1120, '265': 109, 'friction': 1320, '179th': 70, 'ob': 1996, 'roger': 2469, '14th': 57, 'shape': 2583, 'detaches': 954, '5x5x2': 217, 'grs': 1408, '2017': 92, 'collecting': 760, 'milton': 1903, 'maribondos': 1859, 'swelling': 2863, 'symptoms': 2866, 'carmen': 634, 'anfo': 386, '186': 78, 'slab': 2641, '4x0': 194, '7x0': 248, 'lodged': 1768, 'tubo': 3025, 'uncover': 3045, 'jetanol': 1624, 'rise': 2456, 'prils': 2246, 'vehicles': 3087, 'mv': 1950, '3120': 130, 'sees': 2561, 'congestion': 801, '990': 276, 'rung': 2499, 'fender': 1238, 'tunel': 3027, '3600': 152, 'stationed': 2744, 'abutment': 290, 'stirrup': 2761, 'noted': 1982, 'duties': 1063, 'watch': 3145, 'reporting': 2396, 'extraction': 1186, 'polypropylene': 2198, 'twisted': 3036, 'litorina': 1747, 'advances': 336, 'paralyzes': 2087, 'winemaker': 3188, 'alex': 361, 'pickaxe': 2143, 'assist': 430, 'ferranta': 1241, 'lm17': 1751, '585': 210, 'needle': 1965, 'stem': 2749, 'retraction': 2434, 'geologists': 1362, 'dos': 1030, 'santos': 2519, 'dayme': 914, 'barbed': 478, 'known': 1661, 'goat': 1380, '20cm': 95, 'jumped': 1641, 'managed': 1829, 'sweep': 2862, 'supporting': 2844, '1cm': 85, 'misalignment': 1911, 'scraper': 2537, 'perceived': 2123, 'increases': 1544, 'ssomac': 2718, 'guillotine': 1412, 'enmicadas': 1123, 'pages': 2075, 'yolk': 3226, 'office': 2015, 'stair': 2730, 'signaling': 2620, 'packaging': 2072, 'cylindrical': 899, 'strength': 2784, 'threw': 2924, 'eyelash': 1191, 'averaging': 459, 'daniel': 909, 'motion': 1934, 'spillway': 2701, 'absorbent': 288, 'atlas': 437, 'axs': 463, 'compressor': 785, 'bonnet': 550, 'functioning': 1329, 'rag': 2320, 'ompressor': 2021, 'fan': 1215, 'propeller': 2275, 'carpentry': 637, 'diagnosis': 968, 'mount': 1937, 'pickup': 2146, 'peristaltic': 2133, '02bp0166': 8, 'reserve': 2407, '02bp0167': 9, 'operate': 2033, 'designing': 949, 'disrupted': 1009, '3370': 140, '212': 98, 'loosens': 1779, 'cardan': 631, 'connector': 804, 'magnetometric': 1819, 'antônio': 399, 'ajani': 354, 'liliana': 1732, 'folders': 1287, 'iglu': 1509, 'diagonally': 970, 'inward': 1603, 'stabilizes': 2723, 'avoiding': 461, 'extracting': 1185, 'vsd': 3119, '6lbs': 233, 'freddy': 1317, 'painting': 2079, 'touches': 2970, 'paint': 2078, 'dry': 1056, 'rub': 2494, 'period': 2132, 'seconds': 2551, 'continuously': 824, 'conclusion': 789, 'amp': 377, '819': 257, 'stretch': 2785, 'hatch': 1430, 'measuring': 1878, 'surcharges': 2846, 'walter': 3131, 'putting': 2305, 'cruise': 876, '320': 134, '1850': 77, 'operations': 2039, 'arrived': 421, 'driven': 1047, 'request': 2401, 'data': 912, 'pinning': 2158, 'wheelbarrow': 3171, 'prick': 2244, 'shaking': 2580, 'pants': 2082, 'scorpion': 2536, 'cycle': 894, '410': 176, 'jackleg': 1618, 'transverse': 2995, 'assisting': 434, 'gilvânio': 1372, 'moths': 1933, 'sunglasses': 2830, 'insects': 1572, 'caught': 655, 'marimbondos': 1861, 'drove': 1054, 'medicine': 1885, 'antiallergic': 397, 'situations': 2634, 'responsible': 2420, 'good': 1384, 'lavras': 1691, 'sul': 2821, 'consulted': 811, 'pique': 2164, 'casting': 646, 'jobs': 1632, 'electricians': 1087, 'depth': 940, 'milling': 1901, 'cyclones': 896, 'isc': 1608, 'mg26': 1897, 'decreasing': 927, 'lloclla': 1750, 'hill': 1462, 'aforementioned': 343, '042': 14, 'grinding': 1404, 'triangular': 3015, '53cm': 203, '42cm': 184, '12cm': 49, 'injuring': 1568, 'refractory': 2370, 'brick': 582, 'chopping': 706, 'bus': 606, 'provoking': 2284, 'sampling': 2513, 'sta': 2720, 'rafael': 2319, 'danillo': 910, 'rushed': 2502, 'uniform': 3053, 'sketched': 2636, 'hitchhiking': 1467, 'cep': 669, '403': 169, 'crossed': 870, 'canterio': 626, 'catch': 648, 'opposite': 2042, 'duval': 1065, 'sampler': 2511, 'buckets': 596, 'courier': 855, 'mag': 1816, 'murilo': 1948, 'acquisition': 313, '40cm': 172, 'gap': 1344, 'traversed': 3005, 'rested': 2424, 'ravine': 2335, 'ray': 2336, 'examination': 1158, 'physician': 2141, 'f6m': 1197, '801': 250, 'license': 1721, 'locate': 1759, 'answer': 392, 'distracted': 1015, 'crashes': 861, 'happens': 1425, 'copilot': 839, '910': 268, 'cro': 867, '861': 259, 'unloaded': 3058, 'visualizes': 3112, 'ignited': 1510, 'thrust': 2928, 'accumulating': 308, 'dismount': 1004, 'tell': 2903, 'look': 1771, 'light': 1728, 'shining': 2596, 'deceased': 921, 'supervisory': 2839, 'dismantled': 1002, 'burr': 604, 'screws': 2542, 'quirodactilo': 2312, 'individual': 1550, 'aggregates': 346, 'cast': 645, 'fogging': 1286, 'chooses': 704, 'comfort': 767, 'vms': 3114, 'xixás': 3219, 'fabio': 1198, 'stinging': 2758, 'robson': 2463, 'swarm': 2859, 'play': 2183, 'visibility': 3106, 'woods': 3198, 'hissing': 1465, 'screen': 2539, 'ripped': 2454, 'tangled': 2880, 'branches': 574, 'solubilization': 2679, 'chapel': 682, 'vial': 3097, 'doser': 1032, 'changing': 680, '11b': 45, 'primary': 2247, 'automatic': 455, 'activated': 316, '57': 209, '332': 138, 'z014': 3228, 'transformer': 2988, 'loud': 1784, 'oscillation': 2049, 'queneche': 2309, 'adjoining': 329, '132': 52, 'assigned': 429, 'mixer': 1915, '3630': 154, 'controls': 827, 'thorn': 2921, 'retreat': 2436, 'magnetometer': 1818, 'antenna': 393, 'grp': 1407, 'polymer': 2196, 'stages': 2729, 'span': 2687, '60m': 222, '35m': 150, 'ball': 470, 'humped': 1497, 'oxide': 2067, 'hoistings': 1474, 'contacting': 813, 'attaching': 441, '30hs': 129, 'warley': 3135, 'workplace': 3205, 'walls': 3129, 'solid': 2678, 'formed': 1303, '3790': 157, '280': 113, 'yard': 3223, 'signals': 2621, 'retire': 2431, 'mixture': 1917, 'redness': 2361, 'potions': 2215, 'luis': 1798, 'wasp': 3143, 'epis': 1135, 'evaluated': 1153, 'mild': 1900, 'localized': 1758, 'reported': 2395, 'feel': 1228, 'old': 2020, 'kv': 1663, 'disabled': 989, 'profiles': 2263, 'disassembled': 990, 'oxyfuel': 2069, 'proingcom': 2266, 'security': 2556, 'foreman': 1298, 'fenced': 1237, 'indicate': 1547, 'stoppage': 2770, 'refuge': 2372, 'orange': 2043, 'alert': 360, 'detector': 959, 'storms': 2777, 'heard': 1440, 'fright': 1321, 'correspond': 848, 'towers': 2973, 'paralysis': 2084, 'scare': 2529, 'concreting': 791, 'mangote': 1837, 'inferior': 1554, 'hematoma': 1455, 'supervision': 2837, 'breeders': 580, 'surveying': 2852, 'measurements': 1877, 'fastening': 1220, 'toe': 2955, 'chicoteo': 694, 'aggregate': 345, 'shocrete': 2602, 'pricked': 2245, 'future': 1333, 'ip': 1604, 'portion': 2204, 'beetle': 497, 'manifested': 1840, 'developed': 963, 'shirt': 2600, 'shield': 2593, 'paralyze': 2085, 'ob6a': 2000, 'observed': 2004, 'ones': 2022, 'shotcreteados': 2609, 'detachments': 957, 'banks': 474, 'composing': 781, 'consisted': 807, 'touched': 2969, 'tucum': 3026, 'piercing': 2151, 'told': 2958, 'teammate': 2892, 'spine': 2702, 'waxed': 3149, 'porangatu': 2202, 'health': 1439, 'victor': 3100, 'visual': 3111, 'pablo': 2070, 'sanitation': 2517, 'slaughter': 2643, 'scaller': 2527, 'underground': 3046, 'jka': 1630, 'promptly': 2272, 'brigade': 585, 'transported': 2993, 'outpatient': 2053, 'municipal': 1947, 'accumulates': 307, 'rests': 2427, 'shown': 2614, 'photograph': 2139, 'eyelet': 1192, 'accumulated': 306, 'tecla': 2899, 'tecle': 2900, 'lashes': 1682, 'efraín': 1077, 'osorio': 2050, 'felix': 1233, 'mina': 1904, 'pocket': 2187, '2865': 115, '1205': 48, 'installed': 1581, 'nozzle': 1989, 'lung': 1803, 'violent': 3103, 'stun': 2804, 'foundry': 1306, 'fit': 1267, 'zamac': 3230, 'ingots': 1559, 'packages': 2071, 'footwear': 1293, 'sealing': 2545, 'fulcrum': 1327, 'traumatism': 3002, 'adjusting': 331, 'shapes': 2585, 'tether': 2913, 'rhyming': 2445, 'caving': 661, 'hw': 1499, 'márcio': 1951, 'sérgio': 2869, 'fz1': 1334, '031': 11, 'spool': 2709, 'resane': 2404, 'cubic': 882, 'minutes': 1910, 'allow': 370, 'adhesion': 328, 'restarting': 2423, 'assume': 435, 'fallen': 1211, 'job': 1631, 'response': 2419, 'death': 918, 'investigation': 1600, 'pipette': 2162, 'pear': 2113, 'maestranza': 1815, 'bench': 504, 'lining': 1739, 'skip': 2640, 'albino': 358, 'verifies': 3092, 'restart': 2422, 'apparent': 400, 'clothes': 743, 'virdro': 3105, 'breaker': 577, '316': 132, 'instructed': 1586, 'carlos': 633, 'duty': 1064, 'antonio': 398, '372': 156, 'maslucan': 1867, 'fragmentos': 1312, 'straight': 2779, '2790': 112, 'report': 2394, 'progressive': 2265, 'mat': 1870, 'wet': 3169, 'slippery': 2657, 'unlock': 3060, 'cathodic': 653, 'digger': 979, 'realize': 2346, 'emptying': 1107, 'dosage': 1031, 'generated': 1357, 'trays': 3006, 'ematoma': 1097, 'ensuring': 1125, 'partners': 2096, 'killer': 1654, 'manitou': 1847, 'adjusted': 330, 'j005a': 1614, 'registered': 2375, 'w5k': 3120, '915': 269, 'garit': 1345, 'chicrin': 695, '3420': 142, 'longer': 1770, 'drive': 1046, 'complaining': 776, 'intense': 1588, 'lumbar': 1800, 'citing': 717, 'overexertion': 2058, 'cylinders': 898, 'insertion': 1573, 'blind': 523, 'wedges': 3156, 'tito': 2950, 'ordinary': 2045, 'initiates': 1562, 'module': 1920, 'switched': 2865, 'addition': 324, 'afo': 342, '755': 242, 'launching': 1689, 'bonifacio': 549, 'robot': 2462, 'emptiness': 1106, 'enoc': 1124, 'sensation': 2564, 'correctly': 847, 'aeq': 338, 'ton': 2959, 'tj': 2951, '007': 2, '105': 30, 'ydrs': 3224, 'shake': 2579, 'violently': 3104, 'communicate': 770, 'deconcentrates': 926, 'releases': 2380, 'victaúlica': 3098, 'copla': 840, 'ahk': 350, '903': 266, 'empresa': 1105, 'serves': 2569, 'cma': 747, 'inspections': 1578, '4288': 183, 'operational': 2038, 'excavated': 1159, 'occupants': 2011, 'comedor': 765, 'lemon': 1711, 'testimony': 2911, 'boxes': 565, 'bonsucesso': 551, 'research': 2406, 'geosol': 1367, 'parts': 2097, 'trestles': 3014, 'são': 2868, 'lucas': 1796, 'ltda': 1790, 'unbalancing': 3042, 'amg': 375, 'luiz': 1799, 'boarding': 536, 'believed': 500, 'nailed': 1955, 'properly': 2276, '285': 114, 'rampa': 2330, 'xxx': 3221, 'magazine': 1817, 'carousel': 635, 'infrastructure': 1557, 'julio': 1638, 'toilets': 2957, 'bra': 567, 'environmental': 1134, 'swarming': 2860, 'weevils': 3158, 'endured': 1114, 'stripping': 2792, 'cathodes': 652, 'camp': 623, 'grabbed': 1389, 'laundry': 1690}\n"
     ]
    }
   ],
   "source": [
    "# Printing the identified Unique words along with their indices\n",
    "print(\"Vocabulary: \", vectorizer.vocabulary_)"
   ]
  },
  {
   "cell_type": "code",
   "execution_count": 237,
   "metadata": {},
   "outputs": [],
   "source": [
    "# encode document\n",
    "vector = vectorizer.transform(data['Description'])"
   ]
  },
  {
   "cell_type": "code",
   "execution_count": 244,
   "metadata": {},
   "outputs": [
    {
     "name": "stdout",
     "output_type": "stream",
     "text": [
      "(1545, 3236)\n",
      "[[0 0 0 ... 0 0 0]\n",
      " [0 0 0 ... 0 0 0]\n",
      " [0 0 0 ... 0 0 0]\n",
      " ...\n",
      " [0 0 0 ... 0 0 0]\n",
      " [0 0 0 ... 0 0 0]\n",
      " [0 0 0 ... 0 0 0]]\n"
     ]
    }
   ],
   "source": [
    "# summarize encoded vector\n",
    "print(vector.shape)\n",
    "print(vector.toarray())"
   ]
  },
  {
   "cell_type": "code",
   "execution_count": 241,
   "metadata": {},
   "outputs": [
    {
     "data": {
      "text/plain": [
       "['00',\n",
       " '001',\n",
       " '007',\n",
       " '01',\n",
       " '018',\n",
       " '0183',\n",
       " '02',\n",
       " '020',\n",
       " '02bp0166',\n",
       " '02bp0167',\n",
       " '03',\n",
       " '031',\n",
       " '04',\n",
       " '040',\n",
       " '042',\n",
       " '05',\n",
       " '050',\n",
       " '05m',\n",
       " '06',\n",
       " '069',\n",
       " '07',\n",
       " '08',\n",
       " '08fi0502',\n",
       " '09',\n",
       " '0m',\n",
       " '0x0',\n",
       " '10',\n",
       " '100',\n",
       " '100cm',\n",
       " '1021',\n",
       " '105',\n",
       " '1055',\n",
       " '1095',\n",
       " '10cm',\n",
       " '10cmx8cm',\n",
       " '10m',\n",
       " '10mx0',\n",
       " '10x6x5cm',\n",
       " '11',\n",
       " '110',\n",
       " '111',\n",
       " '112gr',\n",
       " '113',\n",
       " '116',\n",
       " '1170',\n",
       " '11b',\n",
       " '12',\n",
       " '120',\n",
       " '1205',\n",
       " '12cm',\n",
       " '12cmx10cmx3cm',\n",
       " '13',\n",
       " '132',\n",
       " '13cmx6cmx2cm',\n",
       " '14',\n",
       " '142',\n",
       " '1440',\n",
       " '14th',\n",
       " '15',\n",
       " '15cm',\n",
       " '15mx0',\n",
       " '16',\n",
       " '1604',\n",
       " '1620',\n",
       " '1680',\n",
       " '17',\n",
       " '170',\n",
       " '1710',\n",
       " '175',\n",
       " '176',\n",
       " '179th',\n",
       " '17m',\n",
       " '18',\n",
       " '180',\n",
       " '1800',\n",
       " '181',\n",
       " '184',\n",
       " '1850',\n",
       " '186',\n",
       " '187',\n",
       " '1880',\n",
       " '19',\n",
       " '1910',\n",
       " '1940',\n",
       " '1970',\n",
       " '1cm',\n",
       " '1m',\n",
       " '1st',\n",
       " '1tm',\n",
       " '20',\n",
       " '200',\n",
       " '2016',\n",
       " '2017',\n",
       " '2040',\n",
       " '205b',\n",
       " '20cm',\n",
       " '20mx1',\n",
       " '21',\n",
       " '212',\n",
       " '2142',\n",
       " '22',\n",
       " '23',\n",
       " '239',\n",
       " '24',\n",
       " '2440',\n",
       " '25',\n",
       " '255',\n",
       " '25cmx10cmx5cm',\n",
       " '26',\n",
       " '265',\n",
       " '26gr',\n",
       " '27',\n",
       " '2790',\n",
       " '280',\n",
       " '285',\n",
       " '2865',\n",
       " '29',\n",
       " '2900',\n",
       " '2925',\n",
       " '2930',\n",
       " '2940',\n",
       " '2995',\n",
       " '2m',\n",
       " '2mx0',\n",
       " '2nd',\n",
       " '2x3x2cm',\n",
       " '30',\n",
       " '3015',\n",
       " '30cm',\n",
       " '30hs',\n",
       " '3120',\n",
       " '3140',\n",
       " '316',\n",
       " '32',\n",
       " '320',\n",
       " '326',\n",
       " '33',\n",
       " '3300',\n",
       " '332',\n",
       " '334',\n",
       " '3370',\n",
       " '3390',\n",
       " '3420',\n",
       " '3450',\n",
       " '3490',\n",
       " '35',\n",
       " '350',\n",
       " '3530',\n",
       " '3570',\n",
       " '3590',\n",
       " '35m',\n",
       " '36',\n",
       " '3600',\n",
       " '3620',\n",
       " '3630',\n",
       " '36gr',\n",
       " '372',\n",
       " '3790',\n",
       " '37km',\n",
       " '3900',\n",
       " '3910',\n",
       " '3970',\n",
       " '3cm',\n",
       " '3er',\n",
       " '3m',\n",
       " '3rd',\n",
       " '40',\n",
       " '400',\n",
       " '400a',\n",
       " '403',\n",
       " '40357',\n",
       " '4070',\n",
       " '40cm',\n",
       " '40km',\n",
       " '40m',\n",
       " '40mt',\n",
       " '410',\n",
       " '4115',\n",
       " '4150',\n",
       " '41br01',\n",
       " '42',\n",
       " '420',\n",
       " '4240',\n",
       " '4288',\n",
       " '42cm',\n",
       " '4318',\n",
       " '440',\n",
       " '440v',\n",
       " '447',\n",
       " '45',\n",
       " '450',\n",
       " '48',\n",
       " '4cm',\n",
       " '4th',\n",
       " '4x0',\n",
       " '50',\n",
       " '500',\n",
       " '5021',\n",
       " '5068',\n",
       " '50cm',\n",
       " '50m',\n",
       " '52',\n",
       " '53',\n",
       " '53cm',\n",
       " '54',\n",
       " '544',\n",
       " '54g',\n",
       " '55',\n",
       " '55h',\n",
       " '57',\n",
       " '585',\n",
       " '5cm',\n",
       " '5cmx4cmx2cm',\n",
       " '5m',\n",
       " '5mx1',\n",
       " '5th',\n",
       " '5x4x3cm',\n",
       " '5x5x2',\n",
       " '60',\n",
       " '600',\n",
       " '604',\n",
       " '60cm',\n",
       " '60m',\n",
       " '60x4x5cm',\n",
       " '615',\n",
       " '615rlc',\n",
       " '620',\n",
       " '640',\n",
       " '65',\n",
       " '67',\n",
       " '695',\n",
       " '69cm',\n",
       " '6cmx2cmx1cm',\n",
       " '6lbs',\n",
       " '6m',\n",
       " '70',\n",
       " '700kg',\n",
       " '70m',\n",
       " '71r',\n",
       " '745',\n",
       " '75',\n",
       " '751',\n",
       " '755',\n",
       " '771',\n",
       " '781',\n",
       " '791',\n",
       " '7m',\n",
       " '7th',\n",
       " '7x0',\n",
       " '80',\n",
       " '801',\n",
       " '804',\n",
       " '80kg',\n",
       " '80m',\n",
       " '80mt',\n",
       " '80x0',\n",
       " '81',\n",
       " '819',\n",
       " '831',\n",
       " '861',\n",
       " '878',\n",
       " '896',\n",
       " '8a',\n",
       " '8b',\n",
       " '8m',\n",
       " '90',\n",
       " '903',\n",
       " '90m',\n",
       " '910',\n",
       " '915',\n",
       " '92',\n",
       " '943',\n",
       " '95',\n",
       " '970',\n",
       " '983',\n",
       " '98m',\n",
       " '990',\n",
       " '996',\n",
       " '9970',\n",
       " 'a1',\n",
       " 'a2',\n",
       " 'a30',\n",
       " 'abb',\n",
       " 'abdomen',\n",
       " 'able',\n",
       " 'abratech',\n",
       " 'abrupt',\n",
       " 'abruptly',\n",
       " 'absorbent',\n",
       " 'absorbing',\n",
       " 'abutment',\n",
       " 'acc',\n",
       " 'accelerate',\n",
       " 'access',\n",
       " 'accessing',\n",
       " 'accessories',\n",
       " 'accessory',\n",
       " 'accident',\n",
       " 'accidentally',\n",
       " 'accidently',\n",
       " 'accommodate',\n",
       " 'accommodated',\n",
       " 'accompanied',\n",
       " 'accompanying',\n",
       " 'according',\n",
       " 'accretion',\n",
       " 'accumulated',\n",
       " 'accumulates',\n",
       " 'accumulating',\n",
       " 'accumulation',\n",
       " 'achieving',\n",
       " 'acid',\n",
       " 'acl',\n",
       " 'acquisition',\n",
       " 'acted',\n",
       " 'action',\n",
       " 'activated',\n",
       " 'activates',\n",
       " 'activation',\n",
       " 'activities',\n",
       " 'activity',\n",
       " 'actuating',\n",
       " 'adapted',\n",
       " 'adapter',\n",
       " 'addition',\n",
       " 'additive',\n",
       " 'ademir',\n",
       " 'adhered',\n",
       " 'adhesion',\n",
       " 'adjoining',\n",
       " 'adjusted',\n",
       " 'adjusting',\n",
       " 'adjustment',\n",
       " 'adjutant',\n",
       " 'administrative',\n",
       " 'advance',\n",
       " 'advances',\n",
       " 'advancing',\n",
       " 'aeq',\n",
       " 'aerial',\n",
       " 'affected',\n",
       " 'affecting',\n",
       " 'afo',\n",
       " 'aforementioned',\n",
       " 'afternoon',\n",
       " 'aggregate',\n",
       " 'aggregates',\n",
       " 'agitated',\n",
       " 'ago',\n",
       " 'ahead',\n",
       " 'ahk',\n",
       " 'aid',\n",
       " 'air',\n",
       " 'airlift',\n",
       " 'ajani',\n",
       " 'ajax',\n",
       " 'ajg',\n",
       " 'albertico',\n",
       " 'albino',\n",
       " 'alcohotest',\n",
       " 'alert',\n",
       " 'alex',\n",
       " 'alfredo',\n",
       " 'align',\n",
       " 'aligning',\n",
       " 'alimak',\n",
       " 'alimakero',\n",
       " 'alizado',\n",
       " 'allergic',\n",
       " 'allergy',\n",
       " 'allow',\n",
       " 'alpha',\n",
       " 'aluminum',\n",
       " 'ambulance',\n",
       " 'ambulatory',\n",
       " 'amg',\n",
       " 'ammonia',\n",
       " 'amp',\n",
       " 'ampoloader',\n",
       " 'amputation',\n",
       " 'analysis',\n",
       " 'ancash',\n",
       " 'anchor',\n",
       " 'anchorage',\n",
       " 'anchored',\n",
       " 'anchoring',\n",
       " 'anfo',\n",
       " 'anfoloader',\n",
       " 'angle',\n",
       " 'animals',\n",
       " 'ankle',\n",
       " 'anode',\n",
       " 'answer',\n",
       " 'antenna',\n",
       " 'anterior',\n",
       " 'anthony',\n",
       " 'anti',\n",
       " 'antiallergic',\n",
       " 'antonio',\n",
       " 'antônio',\n",
       " 'apparent',\n",
       " 'apparently',\n",
       " 'appears',\n",
       " 'applicable',\n",
       " 'applied',\n",
       " 'applies',\n",
       " 'applying',\n",
       " 'approach',\n",
       " 'approaches',\n",
       " 'approaching',\n",
       " 'approx',\n",
       " 'approximate',\n",
       " 'approximately',\n",
       " 'aramid',\n",
       " 'arc',\n",
       " 'area',\n",
       " 'aripuanã',\n",
       " 'arm',\n",
       " 'arrange',\n",
       " 'arranged',\n",
       " 'arranging',\n",
       " 'arrived',\n",
       " 'arrives',\n",
       " 'arriving',\n",
       " 'ask',\n",
       " 'asks',\n",
       " 'assemble',\n",
       " 'assembling',\n",
       " 'assembly',\n",
       " 'assigned',\n",
       " 'assist',\n",
       " 'assistant',\n",
       " 'assistants',\n",
       " 'assisted',\n",
       " 'assisting',\n",
       " 'assume',\n",
       " 'atenuz',\n",
       " 'atlas',\n",
       " 'atricion',\n",
       " 'atriction',\n",
       " 'attached',\n",
       " 'attaching',\n",
       " 'attack',\n",
       " 'attacked',\n",
       " 'attacks',\n",
       " 'attempt',\n",
       " 'attempting',\n",
       " 'attempts',\n",
       " 'attendants',\n",
       " 'attended',\n",
       " 'attending',\n",
       " 'attention',\n",
       " 'attributing',\n",
       " 'attrition',\n",
       " 'autoclave',\n",
       " 'automatic',\n",
       " 'auxiliar',\n",
       " 'auxiliaries',\n",
       " 'auxiliary',\n",
       " 'averaging',\n",
       " 'avoid',\n",
       " 'avoiding',\n",
       " 'away',\n",
       " 'axs',\n",
       " 'backhoe',\n",
       " 'backwards',\n",
       " 'bag',\n",
       " 'bags',\n",
       " 'balance',\n",
       " 'balancing',\n",
       " 'ball',\n",
       " 'balloon',\n",
       " 'band',\n",
       " 'bank',\n",
       " 'banks',\n",
       " 'bap',\n",
       " 'bapdd00146',\n",
       " 'bar',\n",
       " 'barbed',\n",
       " 'barel',\n",
       " 'barretilla',\n",
       " 'bars',\n",
       " 'base',\n",
       " 'basin',\n",
       " 'basket',\n",
       " 'bathroom',\n",
       " 'baton',\n",
       " 'battery',\n",
       " 'bb',\n",
       " 'beak',\n",
       " 'beam',\n",
       " 'bearing',\n",
       " 'beating',\n",
       " 'becker',\n",
       " 'bee',\n",
       " 'beehive',\n",
       " 'bees',\n",
       " 'beetle',\n",
       " 'began',\n",
       " 'begins',\n",
       " 'believed',\n",
       " 'belly',\n",
       " 'belt',\n",
       " 'belts',\n",
       " 'bench',\n",
       " 'bend',\n",
       " 'bending',\n",
       " 'bends',\n",
       " 'bhb',\n",
       " 'big',\n",
       " 'bin',\n",
       " 'bines',\n",
       " 'bioxide',\n",
       " 'bit',\n",
       " 'bite',\n",
       " 'bites',\n",
       " 'bitten',\n",
       " 'blackjack',\n",
       " 'bladder',\n",
       " 'blade',\n",
       " 'blanket',\n",
       " 'blaster',\n",
       " 'blasting',\n",
       " 'blind',\n",
       " 'block',\n",
       " 'blocked',\n",
       " 'blocking',\n",
       " 'blocks',\n",
       " 'blow',\n",
       " 'blower',\n",
       " 'blowing',\n",
       " 'blown',\n",
       " 'blows',\n",
       " 'blunt',\n",
       " 'bo',\n",
       " 'board',\n",
       " 'boarding',\n",
       " 'boards',\n",
       " 'bob',\n",
       " 'bodeguero',\n",
       " 'bodies',\n",
       " 'body',\n",
       " 'boiler',\n",
       " 'bolt',\n",
       " 'boltec',\n",
       " 'bolter',\n",
       " 'bolting',\n",
       " 'bolts',\n",
       " 'bomb',\n",
       " 'bonifacio',\n",
       " 'bonnet',\n",
       " 'bonsucesso',\n",
       " 'boom',\n",
       " 'boot',\n",
       " 'boots',\n",
       " 'bore',\n",
       " 'borehole',\n",
       " 'boss',\n",
       " 'bothering',\n",
       " 'bottle',\n",
       " 'bounce',\n",
       " 'bounces',\n",
       " 'bouncing',\n",
       " 'bowl',\n",
       " 'box',\n",
       " 'boxes',\n",
       " 'bp',\n",
       " 'bra',\n",
       " 'brace',\n",
       " 'bracket',\n",
       " 'brake',\n",
       " 'brakes',\n",
       " 'braking',\n",
       " 'branch',\n",
       " 'branches',\n",
       " 'brapdd',\n",
       " 'break',\n",
       " 'breaker',\n",
       " 'breaking',\n",
       " 'breaks',\n",
       " 'breeders',\n",
       " 'breno',\n",
       " 'brick',\n",
       " 'bricklayer',\n",
       " 'bridge',\n",
       " 'brigade',\n",
       " 'bring',\n",
       " 'brjcldd0006',\n",
       " 'broke',\n",
       " 'broken',\n",
       " 'bruise',\n",
       " 'bruised',\n",
       " 'bruises',\n",
       " 'brushcutters',\n",
       " 'brushed',\n",
       " 'bucket',\n",
       " 'buckets',\n",
       " 'building',\n",
       " 'bump',\n",
       " 'bumped',\n",
       " 'bundle',\n",
       " 'burn',\n",
       " 'burning',\n",
       " 'burns',\n",
       " 'burr',\n",
       " 'burst',\n",
       " 'bus',\n",
       " 'bypass',\n",
       " 'c150',\n",
       " 'c7',\n",
       " 'cab',\n",
       " 'cabin',\n",
       " 'cabinet',\n",
       " 'cable',\n",
       " 'cables',\n",
       " 'cadmium',\n",
       " 'cage',\n",
       " 'cajamarquilla',\n",
       " 'calf',\n",
       " 'calibrator',\n",
       " 'called',\n",
       " 'came',\n",
       " 'camera',\n",
       " 'camp',\n",
       " 'canario',\n",
       " 'cane',\n",
       " 'canterio',\n",
       " 'canvas',\n",
       " 'cap',\n",
       " 'car',\n",
       " 'carbon',\n",
       " 'cardan',\n",
       " 'care',\n",
       " 'carlos',\n",
       " 'carmen',\n",
       " 'carousel',\n",
       " 'carpenter',\n",
       " 'carpentry',\n",
       " 'carried',\n",
       " 'carry',\n",
       " 'carrying',\n",
       " 'cars',\n",
       " 'cart',\n",
       " 'carton',\n",
       " 'casionándole',\n",
       " 'cast',\n",
       " 'casting',\n",
       " 'cat',\n",
       " 'catch',\n",
       " 'catching',\n",
       " 'catheter',\n",
       " 'cathode',\n",
       " 'cathodes',\n",
       " 'cathodic',\n",
       " 'cats',\n",
       " 'caught',\n",
       " 'cause',\n",
       " 'caused',\n",
       " 'causes',\n",
       " 'causing',\n",
       " 'caustic',\n",
       " 'caving',\n",
       " 'ce',\n",
       " 'ceiling',\n",
       " 'cell',\n",
       " 'cement',\n",
       " 'center',\n",
       " 'central',\n",
       " 'centralizer',\n",
       " 'cep',\n",
       " 'ceremony',\n",
       " 'certain',\n",
       " 'cervical',\n",
       " 'cesar',\n",
       " 'chagua',\n",
       " 'chain',\n",
       " 'chair',\n",
       " 'chamber',\n",
       " 'change',\n",
       " 'changed',\n",
       " 'changing',\n",
       " 'channel',\n",
       " 'chapel',\n",
       " 'charging',\n",
       " 'check',\n",
       " 'checked',\n",
       " 'checking',\n",
       " 'cheek',\n",
       " 'cheekbone',\n",
       " 'chemical',\n",
       " 'chemo',\n",
       " 'chest',\n",
       " 'chestnut',\n",
       " 'chicken',\n",
       " 'chicoteo',\n",
       " 'chicrin',\n",
       " 'chief',\n",
       " 'chimney',\n",
       " 'chin',\n",
       " 'chirodactile',\n",
       " 'chirodactilo',\n",
       " 'chiropactyl',\n",
       " 'chisel',\n",
       " 'choco',\n",
       " 'chooses',\n",
       " 'chop',\n",
       " 'chopping',\n",
       " 'chuck',\n",
       " 'chuquillanqui',\n",
       " 'chute',\n",
       " 'chuteo',\n",
       " 'cia',\n",
       " 'ciliary',\n",
       " 'cinnamon',\n",
       " 'circuit',\n",
       " 'circumstance',\n",
       " 'circumstances',\n",
       " 'citing',\n",
       " 'city',\n",
       " 'civil',\n",
       " 'civilian',\n",
       " 'clamp',\n",
       " 'clamping',\n",
       " 'classification',\n",
       " 'claudio',\n",
       " 'clean',\n",
       " 'cleaned',\n",
       " 'cleaning',\n",
       " 'clearing',\n",
       " 'clerk',\n",
       " 'click',\n",
       " 'climb',\n",
       " 'climbing',\n",
       " 'climbs',\n",
       " 'clinic',\n",
       " 'clockwise',\n",
       " 'clogged',\n",
       " 'clogging',\n",
       " 'close',\n",
       " 'closed',\n",
       " 'closes',\n",
       " 'closing',\n",
       " 'cloth',\n",
       " 'clothes',\n",
       " 'cloths',\n",
       " 'cluster',\n",
       " 'cm',\n",
       " 'cma',\n",
       " 'coat',\n",
       " 'cocada',\n",
       " 'cockpit',\n",
       " 'code',\n",
       " 'coil',\n",
       " 'cold',\n",
       " 'collaborator',\n",
       " 'collaborators',\n",
       " 'collar',\n",
       " 'colleague',\n",
       " 'colleagues',\n",
       " 'collect',\n",
       " 'collecting',\n",
       " 'collection',\n",
       " 'collided',\n",
       " 'combination',\n",
       " 'come',\n",
       " 'comedor',\n",
       " 'comes',\n",
       " 'comfort',\n",
       " 'coming',\n",
       " 'command',\n",
       " 'communicate',\n",
       " 'communicates',\n",
       " 'communication',\n",
       " 'companies',\n",
       " 'company',\n",
       " 'compartment',\n",
       " 'complaining',\n",
       " 'complete',\n",
       " 'completed',\n",
       " 'completing',\n",
       " 'composed',\n",
       " 'composing',\n",
       " 'composition',\n",
       " 'compress',\n",
       " 'compressed',\n",
       " 'compressor',\n",
       " 'concentrate',\n",
       " 'concentrator',\n",
       " 'conchucos',\n",
       " 'conclusion',\n",
       " 'concrete',\n",
       " 'concreting',\n",
       " 'concussion',\n",
       " 'conditioning',\n",
       " 'conducting',\n",
       " 'conductive',\n",
       " 'cone',\n",
       " 'cones',\n",
       " 'confined',\n",
       " 'confipetrol',\n",
       " 'confirming',\n",
       " 'congestion',\n",
       " 'connecting',\n",
       " 'connection',\n",
       " 'connector',\n",
       " 'consequence',\n",
       " 'consequently',\n",
       " 'consisted',\n",
       " 'construction',\n",
       " 'consultant',\n",
       " 'consultation',\n",
       " 'consulted',\n",
       " 'contact',\n",
       " 'contacting',\n",
       " 'contained',\n",
       " 'container',\n",
       " 'containers',\n",
       " 'containing',\n",
       " 'containment',\n",
       " 'contaminated',\n",
       " 'contents',\n",
       " 'continue',\n",
       " 'continued',\n",
       " 'continuing',\n",
       " 'continuously',\n",
       " 'contracture',\n",
       " 'control',\n",
       " 'controls',\n",
       " 'contusion',\n",
       " 'conveyor',\n",
       " 'convoy',\n",
       " 'cook',\n",
       " 'cooker',\n",
       " 'cooking',\n",
       " 'cooling',\n",
       " 'coordinate',\n",
       " 'coordinated',\n",
       " 'coordinates',\n",
       " 'coordination',\n",
       " 'copilot',\n",
       " 'copla',\n",
       " 'copper',\n",
       " 'cord',\n",
       " 'cormei',\n",
       " 'corner',\n",
       " 'correct',\n",
       " 'correcting',\n",
       " 'correctly',\n",
       " 'correspond',\n",
       " 'corresponding',\n",
       " 'corridor',\n",
       " 'corrugated',\n",
       " 'cosapi',\n",
       " 'costa',\n",
       " 'coupling',\n",
       " 'courier',\n",
       " 'cover',\n",
       " 'covered',\n",
       " 'cracking',\n",
       " 'crane',\n",
       " 'crash',\n",
       " 'crashes',\n",
       " 'creating',\n",
       " 'crest',\n",
       " 'crew',\n",
       " 'cristian',\n",
       " 'cristóbal',\n",
       " 'cro',\n",
       " 'cross',\n",
       " 'crosscutter',\n",
       " 'crossed',\n",
       " 'crosses',\n",
       " 'crossing',\n",
       " 'crouching',\n",
       " 'crown',\n",
       " 'crucible',\n",
       " 'cruise',\n",
       " 'cruiser',\n",
       " 'crumbles',\n",
       " 'crusher',\n",
       " 'crushing',\n",
       " 'cruz',\n",
       " 'cubic',\n",
       " 'cue',\n",
       " 'culminated',\n",
       " 'curl',\n",
       " 'curling',\n",
       " 'current',\n",
       " 'curve',\n",
       " 'cut',\n",
       " 'cuts',\n",
       " 'cutter',\n",
       " 'cutting',\n",
       " 'cx',\n",
       " 'cycle',\n",
       " 'cyclone',\n",
       " 'cyclones',\n",
       " 'cylinder',\n",
       " 'cylinders',\n",
       " 'cylindrical',\n",
       " 'césar',\n",
       " 'd071',\n",
       " 'd1304',\n",
       " 'd2055',\n",
       " 'd2251',\n",
       " 'd6t',\n",
       " 'da',\n",
       " 'dado',\n",
       " 'damage',\n",
       " 'daniel',\n",
       " 'danillo',\n",
       " 'danon',\n",
       " 'data',\n",
       " 'day',\n",
       " 'dayme',\n",
       " 'days',\n",
       " 'ddh',\n",
       " 'dds',\n",
       " 'death',\n",
       " 'debarking',\n",
       " 'debris',\n",
       " 'deceased',\n",
       " 'december',\n",
       " 'decide',\n",
       " 'decided',\n",
       " 'decides',\n",
       " 'deconcentrates',\n",
       " 'decreasing',\n",
       " 'deep',\n",
       " 'deepening',\n",
       " 'defective',\n",
       " 'defensive',\n",
       " 'defined',\n",
       " 'degree',\n",
       " 'delivery',\n",
       " 'demag',\n",
       " 'demineralization',\n",
       " 'demister',\n",
       " 'denis',\n",
       " 'depressurisation',\n",
       " 'depth',\n",
       " 'derailed',\n",
       " 'derails',\n",
       " 'derived',\n",
       " 'descended',\n",
       " 'descending',\n",
       " 'described',\n",
       " 'designated',\n",
       " 'designed',\n",
       " 'designing',\n",
       " 'deslaminadora',\n",
       " 'deslaminator',\n",
       " 'despite',\n",
       " 'detached',\n",
       " 'detaches',\n",
       " 'detaching',\n",
       " 'detachment',\n",
       " 'detachments',\n",
       " 'detecting',\n",
       " 'detector',\n",
       " 'deteriorated',\n",
       " 'detonating',\n",
       " 'detritus',\n",
       " 'developed',\n",
       " 'developing',\n",
       " 'deviate',\n",
       " 'device',\n",
       " 'diagnose',\n",
       " 'diagnosis',\n",
       " 'diagonal',\n",
       " 'diagonally',\n",
       " 'diamantina',\n",
       " 'diameter',\n",
       " 'diamond',\n",
       " 'diassis',\n",
       " 'did',\n",
       " 'die',\n",
       " 'diesel',\n",
       " 'difficult',\n",
       " 'digger',\n",
       " 'dimensions',\n",
       " 'dining',\n",
       " 'dioxide',\n",
       " 'direct',\n",
       " 'directed',\n",
       " 'directing',\n",
       " 'direction',\n",
       " 'directly',\n",
       " 'directs',\n",
       " 'disabled',\n",
       " 'disassembled',\n",
       " 'disassembly',\n",
       " 'discharge',\n",
       " 'discharging',\n",
       " 'discomfort',\n",
       " 'disconnecting',\n",
       " 'disconnection',\n",
       " 'discovered',\n",
       " 'disengaged',\n",
       " 'dishes',\n",
       " ...]"
      ]
     },
     "execution_count": 241,
     "metadata": {},
     "output_type": "execute_result"
    }
   ],
   "source": [
    "vectorizer.get_feature_names()"
   ]
  },
  {
   "cell_type": "code",
   "execution_count": 250,
   "metadata": {},
   "outputs": [],
   "source": [
    "X_vec = pd.DataFrame(vectorizer.fit_transform(data['Description']).todense(), columns=vectorizer.get_feature_names())"
   ]
  },
  {
   "cell_type": "code",
   "execution_count": null,
   "metadata": {},
   "outputs": [],
   "source": [
    "# X_vec.head()"
   ]
  },
  {
   "cell_type": "code",
   "execution_count": 253,
   "metadata": {},
   "outputs": [],
   "source": [
    "y = data['Accident_Level']"
   ]
  },
  {
   "cell_type": "code",
   "execution_count": 249,
   "metadata": {},
   "outputs": [
    {
     "data": {
      "text/html": [
       "<div>\n",
       "<style scoped>\n",
       "    .dataframe tbody tr th:only-of-type {\n",
       "        vertical-align: middle;\n",
       "    }\n",
       "\n",
       "    .dataframe tbody tr th {\n",
       "        vertical-align: top;\n",
       "    }\n",
       "\n",
       "    .dataframe thead th {\n",
       "        text-align: right;\n",
       "    }\n",
       "</style>\n",
       "<table border=\"1\" class=\"dataframe\">\n",
       "  <thead>\n",
       "    <tr style=\"text-align: right;\">\n",
       "      <th></th>\n",
       "      <th>Accident_Level</th>\n",
       "      <th>00</th>\n",
       "      <th>001</th>\n",
       "      <th>007</th>\n",
       "      <th>01</th>\n",
       "      <th>018</th>\n",
       "      <th>0183</th>\n",
       "      <th>02</th>\n",
       "      <th>020</th>\n",
       "      <th>02bp0166</th>\n",
       "      <th>...</th>\n",
       "      <th>yolk</th>\n",
       "      <th>young</th>\n",
       "      <th>z014</th>\n",
       "      <th>zaf</th>\n",
       "      <th>zamac</th>\n",
       "      <th>zero</th>\n",
       "      <th>zinc</th>\n",
       "      <th>zinco</th>\n",
       "      <th>zn</th>\n",
       "      <th>zone</th>\n",
       "    </tr>\n",
       "  </thead>\n",
       "  <tbody>\n",
       "    <tr>\n",
       "      <th>0</th>\n",
       "      <td>I</td>\n",
       "      <td>0</td>\n",
       "      <td>0</td>\n",
       "      <td>0</td>\n",
       "      <td>0</td>\n",
       "      <td>0</td>\n",
       "      <td>0</td>\n",
       "      <td>0</td>\n",
       "      <td>0</td>\n",
       "      <td>0</td>\n",
       "      <td>...</td>\n",
       "      <td>0</td>\n",
       "      <td>0</td>\n",
       "      <td>0</td>\n",
       "      <td>0</td>\n",
       "      <td>0</td>\n",
       "      <td>0</td>\n",
       "      <td>0</td>\n",
       "      <td>0</td>\n",
       "      <td>0</td>\n",
       "      <td>0</td>\n",
       "    </tr>\n",
       "    <tr>\n",
       "      <th>1</th>\n",
       "      <td>I</td>\n",
       "      <td>0</td>\n",
       "      <td>0</td>\n",
       "      <td>0</td>\n",
       "      <td>0</td>\n",
       "      <td>0</td>\n",
       "      <td>0</td>\n",
       "      <td>0</td>\n",
       "      <td>0</td>\n",
       "      <td>0</td>\n",
       "      <td>...</td>\n",
       "      <td>0</td>\n",
       "      <td>0</td>\n",
       "      <td>0</td>\n",
       "      <td>0</td>\n",
       "      <td>0</td>\n",
       "      <td>0</td>\n",
       "      <td>0</td>\n",
       "      <td>0</td>\n",
       "      <td>0</td>\n",
       "      <td>0</td>\n",
       "    </tr>\n",
       "    <tr>\n",
       "      <th>2</th>\n",
       "      <td>I</td>\n",
       "      <td>0</td>\n",
       "      <td>0</td>\n",
       "      <td>0</td>\n",
       "      <td>0</td>\n",
       "      <td>0</td>\n",
       "      <td>0</td>\n",
       "      <td>0</td>\n",
       "      <td>0</td>\n",
       "      <td>0</td>\n",
       "      <td>...</td>\n",
       "      <td>0</td>\n",
       "      <td>0</td>\n",
       "      <td>0</td>\n",
       "      <td>0</td>\n",
       "      <td>0</td>\n",
       "      <td>0</td>\n",
       "      <td>0</td>\n",
       "      <td>0</td>\n",
       "      <td>0</td>\n",
       "      <td>0</td>\n",
       "    </tr>\n",
       "    <tr>\n",
       "      <th>3</th>\n",
       "      <td>I</td>\n",
       "      <td>0</td>\n",
       "      <td>0</td>\n",
       "      <td>0</td>\n",
       "      <td>0</td>\n",
       "      <td>0</td>\n",
       "      <td>0</td>\n",
       "      <td>0</td>\n",
       "      <td>0</td>\n",
       "      <td>0</td>\n",
       "      <td>...</td>\n",
       "      <td>0</td>\n",
       "      <td>0</td>\n",
       "      <td>0</td>\n",
       "      <td>0</td>\n",
       "      <td>0</td>\n",
       "      <td>0</td>\n",
       "      <td>0</td>\n",
       "      <td>0</td>\n",
       "      <td>0</td>\n",
       "      <td>0</td>\n",
       "    </tr>\n",
       "    <tr>\n",
       "      <th>4</th>\n",
       "      <td>IV</td>\n",
       "      <td>0</td>\n",
       "      <td>0</td>\n",
       "      <td>0</td>\n",
       "      <td>0</td>\n",
       "      <td>0</td>\n",
       "      <td>0</td>\n",
       "      <td>0</td>\n",
       "      <td>0</td>\n",
       "      <td>0</td>\n",
       "      <td>...</td>\n",
       "      <td>0</td>\n",
       "      <td>0</td>\n",
       "      <td>0</td>\n",
       "      <td>1</td>\n",
       "      <td>0</td>\n",
       "      <td>0</td>\n",
       "      <td>0</td>\n",
       "      <td>0</td>\n",
       "      <td>0</td>\n",
       "      <td>0</td>\n",
       "    </tr>\n",
       "  </tbody>\n",
       "</table>\n",
       "<p>5 rows × 3237 columns</p>\n",
       "</div>"
      ],
      "text/plain": [
       "  Accident_Level  00  001  007  01  018  0183  02  020  02bp0166  ...  yolk  \\\n",
       "0              I   0    0    0   0    0     0   0    0         0  ...     0   \n",
       "1              I   0    0    0   0    0     0   0    0         0  ...     0   \n",
       "2              I   0    0    0   0    0     0   0    0         0  ...     0   \n",
       "3              I   0    0    0   0    0     0   0    0         0  ...     0   \n",
       "4             IV   0    0    0   0    0     0   0    0         0  ...     0   \n",
       "\n",
       "   young  z014  zaf  zamac  zero  zinc  zinco  zn  zone  \n",
       "0      0     0    0      0     0     0      0   0     0  \n",
       "1      0     0    0      0     0     0      0   0     0  \n",
       "2      0     0    0      0     0     0      0   0     0  \n",
       "3      0     0    0      0     0     0      0   0     0  \n",
       "4      0     0    1      0     0     0      0   0     0  \n",
       "\n",
       "[5 rows x 3237 columns]"
      ]
     },
     "execution_count": 249,
     "metadata": {},
     "output_type": "execute_result"
    }
   ],
   "source": []
  },
  {
   "cell_type": "markdown",
   "metadata": {},
   "source": [
    "# ML Modeling"
   ]
  },
  {
   "cell_type": "code",
   "execution_count": 254,
   "metadata": {},
   "outputs": [],
   "source": [
    "%%capture\n",
    "\n",
    "!pip install h2o"
   ]
  },
  {
   "cell_type": "code",
   "execution_count": 257,
   "metadata": {},
   "outputs": [],
   "source": [
    "import h2o\n",
    "from h2o.automl import H2OAutoML"
   ]
  },
  {
   "cell_type": "code",
   "execution_count": 259,
   "metadata": {},
   "outputs": [
    {
     "name": "stdout",
     "output_type": "stream",
     "text": [
      "Checking whether there is an H2O instance running at http://localhost:54321 ..... not found.\n",
      "Attempting to start a local H2O server...\n"
     ]
    },
    {
     "ename": "H2OStartupError",
     "evalue": "Cannot find Java. Please install the latest JRE from\nhttp://docs.h2o.ai/h2o/latest-stable/h2o-docs/welcome.html#java-requirements",
     "output_type": "error",
     "traceback": [
      "\u001b[1;31m---------------------------------------------------------------------------\u001b[0m",
      "\u001b[1;31mH2OConnectionError\u001b[0m                        Traceback (most recent call last)",
      "\u001b[1;32m~\\anaconda3\\lib\\site-packages\\h2o\\h2o.py\u001b[0m in \u001b[0;36minit\u001b[1;34m(url, ip, port, name, https, cacert, insecure, username, password, cookies, proxy, start_h2o, nthreads, ice_root, log_dir, log_level, max_log_file_size, enable_assertions, max_mem_size, min_mem_size, strict_version_check, ignore_config, extra_classpath, jvm_custom_args, bind_to_localhost, **kwargs)\u001b[0m\n\u001b[0;32m    260\u001b[0m     \u001b[1;32mtry\u001b[0m\u001b[1;33m:\u001b[0m\u001b[1;33m\u001b[0m\u001b[1;33m\u001b[0m\u001b[0m\n\u001b[1;32m--> 261\u001b[1;33m         h2oconn = H2OConnection.open(url=url, ip=ip, port=port, name=name, https=https,\n\u001b[0m\u001b[0;32m    262\u001b[0m                                      \u001b[0mverify_ssl_certificates\u001b[0m\u001b[1;33m=\u001b[0m\u001b[0mverify_ssl_certificates\u001b[0m\u001b[1;33m,\u001b[0m \u001b[0mcacert\u001b[0m\u001b[1;33m=\u001b[0m\u001b[0mcacert\u001b[0m\u001b[1;33m,\u001b[0m\u001b[1;33m\u001b[0m\u001b[1;33m\u001b[0m\u001b[0m\n",
      "\u001b[1;32m~\\anaconda3\\lib\\site-packages\\h2o\\backend\\connection.py\u001b[0m in \u001b[0;36mopen\u001b[1;34m(server, url, ip, port, name, https, auth, verify_ssl_certificates, cacert, proxy, cookies, verbose, msgs, strict_version_check)\u001b[0m\n\u001b[0;32m    385\u001b[0m             \u001b[0mconn\u001b[0m\u001b[1;33m.\u001b[0m\u001b[0m_timeout\u001b[0m \u001b[1;33m=\u001b[0m \u001b[1;36m3.0\u001b[0m\u001b[1;33m\u001b[0m\u001b[1;33m\u001b[0m\u001b[0m\n\u001b[1;32m--> 386\u001b[1;33m             \u001b[0mconn\u001b[0m\u001b[1;33m.\u001b[0m\u001b[0m_cluster\u001b[0m \u001b[1;33m=\u001b[0m \u001b[0mconn\u001b[0m\u001b[1;33m.\u001b[0m\u001b[0m_test_connection\u001b[0m\u001b[1;33m(\u001b[0m\u001b[0mretries\u001b[0m\u001b[1;33m,\u001b[0m \u001b[0mmessages\u001b[0m\u001b[1;33m=\u001b[0m\u001b[0mmsgs\u001b[0m\u001b[1;33m)\u001b[0m\u001b[1;33m\u001b[0m\u001b[1;33m\u001b[0m\u001b[0m\n\u001b[0m\u001b[0;32m    387\u001b[0m             \u001b[1;31m# If a server is unable to respond within 1s, it should be considered a bug. However we disable this\u001b[0m\u001b[1;33m\u001b[0m\u001b[1;33m\u001b[0m\u001b[1;33m\u001b[0m\u001b[0m\n",
      "\u001b[1;32m~\\anaconda3\\lib\\site-packages\\h2o\\backend\\connection.py\u001b[0m in \u001b[0;36m_test_connection\u001b[1;34m(self, max_retries, messages)\u001b[0m\n\u001b[0;32m    689\u001b[0m         \u001b[1;32melse\u001b[0m\u001b[1;33m:\u001b[0m\u001b[1;33m\u001b[0m\u001b[1;33m\u001b[0m\u001b[0m\n\u001b[1;32m--> 690\u001b[1;33m             raise H2OConnectionError(\"Could not establish link to the H2O cloud %s after %d retries\\n%s\"\n\u001b[0m\u001b[0;32m    691\u001b[0m                                      % (self._base_url, max_retries, \"\\n\".join(errors)))\n",
      "\u001b[1;31mH2OConnectionError\u001b[0m: Could not establish link to the H2O cloud http://localhost:54321 after 5 retries\n[45:40.63] H2OConnectionError: Unexpected HTTP error: HTTPConnectionPool(host='localhost', port=54321): Max retries exceeded with url: /3/Metadata/schemas/CloudV3 (Caused by NewConnectionError('<urllib3.connection.HTTPConnection object at 0x0000017CAEA24310>: Failed to establish a new connection: [WinError 10061] No connection could be made because the target machine actively refused it'))\n[45:44.88] H2OConnectionError: Unexpected HTTP error: HTTPConnectionPool(host='localhost', port=54321): Max retries exceeded with url: /3/Metadata/schemas/CloudV3 (Caused by NewConnectionError('<urllib3.connection.HTTPConnection object at 0x0000017CAEA2E1C0>: Failed to establish a new connection: [WinError 10061] No connection could be made because the target machine actively refused it'))\n[45:49.22] H2OConnectionError: Unexpected HTTP error: HTTPConnectionPool(host='localhost', port=54321): Max retries exceeded with url: /3/Metadata/schemas/CloudV3 (Caused by NewConnectionError('<urllib3.connection.HTTPConnection object at 0x0000017CAEA2E0A0>: Failed to establish a new connection: [WinError 10061] No connection could be made because the target machine actively refused it'))\n[45:53.50] H2OConnectionError: Unexpected HTTP error: HTTPConnectionPool(host='localhost', port=54321): Max retries exceeded with url: /3/Metadata/schemas/CloudV3 (Caused by NewConnectionError('<urllib3.connection.HTTPConnection object at 0x0000017CAEA03EE0>: Failed to establish a new connection: [WinError 10061] No connection could be made because the target machine actively refused it'))\n[45:57.81] H2OConnectionError: Unexpected HTTP error: HTTPConnectionPool(host='localhost', port=54321): Max retries exceeded with url: /3/Metadata/schemas/CloudV3 (Caused by NewConnectionError('<urllib3.connection.HTTPConnection object at 0x0000017CA98378B0>: Failed to establish a new connection: [WinError 10061] No connection could be made because the target machine actively refused it'))",
      "\nDuring handling of the above exception, another exception occurred:\n",
      "\u001b[1;31mH2OStartupError\u001b[0m                           Traceback (most recent call last)",
      "\u001b[1;32m<ipython-input-259-4067469f5bbb>\u001b[0m in \u001b[0;36m<module>\u001b[1;34m\u001b[0m\n\u001b[0;32m      1\u001b[0m \u001b[1;31m# Start the H2O cluster (locally)\u001b[0m\u001b[1;33m\u001b[0m\u001b[1;33m\u001b[0m\u001b[1;33m\u001b[0m\u001b[0m\n\u001b[1;32m----> 2\u001b[1;33m \u001b[0mh2o\u001b[0m\u001b[1;33m.\u001b[0m\u001b[0minit\u001b[0m\u001b[1;33m(\u001b[0m\u001b[1;33m)\u001b[0m\u001b[1;33m\u001b[0m\u001b[1;33m\u001b[0m\u001b[0m\n\u001b[0m",
      "\u001b[1;32m~\\anaconda3\\lib\\site-packages\\h2o\\h2o.py\u001b[0m in \u001b[0;36minit\u001b[1;34m(url, ip, port, name, https, cacert, insecure, username, password, cookies, proxy, start_h2o, nthreads, ice_root, log_dir, log_level, max_log_file_size, enable_assertions, max_mem_size, min_mem_size, strict_version_check, ignore_config, extra_classpath, jvm_custom_args, bind_to_localhost, **kwargs)\u001b[0m\n\u001b[0;32m    276\u001b[0m                                      \u001b[1;34m' instance of H2O with https manually '\u001b[0m\u001b[1;33m\u001b[0m\u001b[1;33m\u001b[0m\u001b[0m\n\u001b[0;32m    277\u001b[0m                                      '(https://docs.h2o.ai/h2o/latest-stable/h2o-docs/welcome.html#new-user-quick-start).')\n\u001b[1;32m--> 278\u001b[1;33m         hs = H2OLocalServer.start(nthreads=nthreads, enable_assertions=enable_assertions, max_mem_size=mmax,\n\u001b[0m\u001b[0;32m    279\u001b[0m                                   \u001b[0mmin_mem_size\u001b[0m\u001b[1;33m=\u001b[0m\u001b[0mmmin\u001b[0m\u001b[1;33m,\u001b[0m \u001b[0mice_root\u001b[0m\u001b[1;33m=\u001b[0m\u001b[0mice_root\u001b[0m\u001b[1;33m,\u001b[0m \u001b[0mlog_dir\u001b[0m\u001b[1;33m=\u001b[0m\u001b[0mlog_dir\u001b[0m\u001b[1;33m,\u001b[0m \u001b[0mlog_level\u001b[0m\u001b[1;33m=\u001b[0m\u001b[0mlog_level\u001b[0m\u001b[1;33m,\u001b[0m\u001b[1;33m\u001b[0m\u001b[1;33m\u001b[0m\u001b[0m\n\u001b[0;32m    280\u001b[0m                                   \u001b[0mmax_log_file_size\u001b[0m\u001b[1;33m=\u001b[0m\u001b[0mmax_log_file_size\u001b[0m\u001b[1;33m,\u001b[0m \u001b[0mport\u001b[0m\u001b[1;33m=\u001b[0m\u001b[0mport\u001b[0m\u001b[1;33m,\u001b[0m \u001b[0mname\u001b[0m\u001b[1;33m=\u001b[0m\u001b[0mname\u001b[0m\u001b[1;33m,\u001b[0m\u001b[1;33m\u001b[0m\u001b[1;33m\u001b[0m\u001b[0m\n",
      "\u001b[1;32m~\\anaconda3\\lib\\site-packages\\h2o\\backend\\server.py\u001b[0m in \u001b[0;36mstart\u001b[1;34m(jar_path, nthreads, enable_assertions, max_mem_size, min_mem_size, ice_root, log_dir, log_level, max_log_file_size, port, name, extra_classpath, verbose, jvm_custom_args, bind_to_localhost)\u001b[0m\n\u001b[0;32m    138\u001b[0m \u001b[1;33m\u001b[0m\u001b[0m\n\u001b[0;32m    139\u001b[0m         \u001b[1;32mif\u001b[0m \u001b[0mverbose\u001b[0m\u001b[1;33m:\u001b[0m \u001b[0mprint\u001b[0m\u001b[1;33m(\u001b[0m\u001b[1;34m\"Attempting to start a local H2O server...\"\u001b[0m\u001b[1;33m)\u001b[0m\u001b[1;33m\u001b[0m\u001b[1;33m\u001b[0m\u001b[0m\n\u001b[1;32m--> 140\u001b[1;33m         hs._launch_server(port=port, baseport=baseport, nthreads=int(nthreads), ea=enable_assertions,\n\u001b[0m\u001b[0;32m    141\u001b[0m                           \u001b[0mmmax\u001b[0m\u001b[1;33m=\u001b[0m\u001b[0mmax_mem_size\u001b[0m\u001b[1;33m,\u001b[0m \u001b[0mmmin\u001b[0m\u001b[1;33m=\u001b[0m\u001b[0mmin_mem_size\u001b[0m\u001b[1;33m,\u001b[0m \u001b[0mjvm_custom_args\u001b[0m\u001b[1;33m=\u001b[0m\u001b[0mjvm_custom_args\u001b[0m\u001b[1;33m,\u001b[0m\u001b[1;33m\u001b[0m\u001b[1;33m\u001b[0m\u001b[0m\n\u001b[0;32m    142\u001b[0m                           bind_to_localhost=bind_to_localhost, log_dir=log_dir, log_level=log_level, max_log_file_size=max_log_file_size)\n",
      "\u001b[1;32m~\\anaconda3\\lib\\site-packages\\h2o\\backend\\server.py\u001b[0m in \u001b[0;36m_launch_server\u001b[1;34m(self, port, baseport, mmax, mmin, ea, nthreads, jvm_custom_args, bind_to_localhost, log_dir, log_level, max_log_file_size)\u001b[0m\n\u001b[0;32m    270\u001b[0m \u001b[1;33m\u001b[0m\u001b[0m\n\u001b[0;32m    271\u001b[0m         \u001b[1;31m# Find Java and check version. (Note that subprocess.check_output returns the output as a bytes object)\u001b[0m\u001b[1;33m\u001b[0m\u001b[1;33m\u001b[0m\u001b[1;33m\u001b[0m\u001b[0m\n\u001b[1;32m--> 272\u001b[1;33m         \u001b[0mjava\u001b[0m \u001b[1;33m=\u001b[0m \u001b[0mself\u001b[0m\u001b[1;33m.\u001b[0m\u001b[0m_find_java\u001b[0m\u001b[1;33m(\u001b[0m\u001b[1;33m)\u001b[0m\u001b[1;33m\u001b[0m\u001b[1;33m\u001b[0m\u001b[0m\n\u001b[0m\u001b[0;32m    273\u001b[0m         \u001b[0mself\u001b[0m\u001b[1;33m.\u001b[0m\u001b[0m_check_java\u001b[0m\u001b[1;33m(\u001b[0m\u001b[0mjava\u001b[0m\u001b[1;33m,\u001b[0m \u001b[0mself\u001b[0m\u001b[1;33m.\u001b[0m\u001b[0m_verbose\u001b[0m\u001b[1;33m)\u001b[0m\u001b[1;33m\u001b[0m\u001b[1;33m\u001b[0m\u001b[0m\n\u001b[0;32m    274\u001b[0m \u001b[1;33m\u001b[0m\u001b[0m\n",
      "\u001b[1;32m~\\anaconda3\\lib\\site-packages\\h2o\\backend\\server.py\u001b[0m in \u001b[0;36m_find_java\u001b[1;34m()\u001b[0m\n\u001b[0;32m    442\u001b[0m \u001b[1;33m\u001b[0m\u001b[0m\n\u001b[0;32m    443\u001b[0m         \u001b[1;31m# not found...\u001b[0m\u001b[1;33m\u001b[0m\u001b[1;33m\u001b[0m\u001b[1;33m\u001b[0m\u001b[0m\n\u001b[1;32m--> 444\u001b[1;33m         raise H2OStartupError(\"Cannot find Java. Please install the latest JRE from\\n\"\n\u001b[0m\u001b[0;32m    445\u001b[0m                               \"http://docs.h2o.ai/h2o/latest-stable/h2o-docs/welcome.html#java-requirements\")\n\u001b[0;32m    446\u001b[0m \u001b[1;33m\u001b[0m\u001b[0m\n",
      "\u001b[1;31mH2OStartupError\u001b[0m: Cannot find Java. Please install the latest JRE from\nhttp://docs.h2o.ai/h2o/latest-stable/h2o-docs/welcome.html#java-requirements"
     ]
    }
   ],
   "source": [
    "# Start the H2O cluster (locally)\n",
    "h2o.init()"
   ]
  },
  {
   "cell_type": "code",
   "execution_count": null,
   "metadata": {},
   "outputs": [],
   "source": []
  },
  {
   "cell_type": "code",
   "execution_count": null,
   "metadata": {},
   "outputs": [],
   "source": []
  },
  {
   "cell_type": "code",
   "execution_count": null,
   "metadata": {},
   "outputs": [],
   "source": []
  }
 ],
 "metadata": {
  "kernelspec": {
   "display_name": "Python 3",
   "language": "python",
   "name": "python3"
  },
  "language_info": {
   "codemirror_mode": {
    "name": "ipython",
    "version": 3
   },
   "file_extension": ".py",
   "mimetype": "text/x-python",
   "name": "python",
   "nbconvert_exporter": "python",
   "pygments_lexer": "ipython3",
   "version": "3.8.5"
  }
 },
 "nbformat": 4,
 "nbformat_minor": 4
}
